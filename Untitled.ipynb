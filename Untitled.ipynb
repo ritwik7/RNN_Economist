{
 "cells": [
  {
   "cell_type": "code",
   "execution_count": null,
   "metadata": {},
   "outputs": [
    {
     "name": "stderr",
     "output_type": "stream",
     "text": [
      "Using TensorFlow backend.\n"
     ]
    },
    {
     "name": "stdout",
     "output_type": "stream",
     "text": [
      "WARNING:tensorflow:From /Users/ritwik7/anaconda3/lib/python3.6/site-packages/tensorflow/python/framework/op_def_library.py:263: colocate_with (from tensorflow.python.framework.ops) is deprecated and will be removed in a future version.\n",
      "Instructions for updating:\n",
      "Colocations handled automatically by placer.\n",
      "WARNING:tensorflow:From /Users/ritwik7/anaconda3/lib/python3.6/site-packages/tensorflow/python/ops/math_ops.py:3066: to_int32 (from tensorflow.python.ops.math_ops) is deprecated and will be removed in a future version.\n",
      "Instructions for updating:\n",
      "Use tf.cast instead.\n",
      "Epoch 1/1\n"
     ]
    }
   ],
   "source": [
    "from random import randint\n",
    "from numpy import array\n",
    "from numpy import argmax\n",
    "from pandas import concat\n",
    "from pandas import DataFrame\n",
    "from keras.models import Sequential\n",
    "from keras.layers import LSTM\n",
    "from keras.layers import Dense\n",
    " \n",
    "# generate a sequence of random numbers in [0, 99]\n",
    "def generate_sequence(length=25):\n",
    "\treturn [randint(0, 99) for _ in range(length)]\n",
    " \n",
    "# one hot encode sequence\n",
    "def one_hot_encode(sequence, n_unique=100):\n",
    "\tencoding = list()\n",
    "\tfor value in sequence:\n",
    "\t\tvector = [0 for _ in range(n_unique)]\n",
    "\t\tvector[value] = 1\n",
    "\t\tencoding.append(vector)\n",
    "\treturn array(encoding)\n",
    " \n",
    "# decode a one hot encoded string\n",
    "def one_hot_decode(encoded_seq):\n",
    "\treturn [argmax(vector) for vector in encoded_seq]\n",
    " \n",
    "# generate data for the lstm\n",
    "def generate_data():\n",
    "\t# generate sequence\n",
    "\tsequence = generate_sequence()\n",
    "\t# one hot encode\n",
    "\tencoded = one_hot_encode(sequence)\n",
    "\t# create lag inputs\n",
    "\tdf = DataFrame(encoded)\n",
    "\tdf = concat([df.shift(4), df.shift(3), df.shift(2), df.shift(1), df], axis=1)\n",
    "\t# remove non-viable rows\n",
    "\tvalues = df.values\n",
    "\tvalues = values[5:,:]\n",
    "\t# convert to 3d for input\n",
    "\tX = values.reshape(len(values), 5, 100)\n",
    "\t# drop last value from y\n",
    "\ty = encoded[4:-1,:]\n",
    "\treturn X, y\n",
    " \n",
    "# define model\n",
    "model = Sequential()\n",
    "model.add(LSTM(50, batch_input_shape=(5, 5, 100), stateful=True))\n",
    "model.add(Dense(100, activation='softmax'))\n",
    "model.compile(loss='categorical_crossentropy', optimizer='adam', metrics=['acc'])\n",
    "# fit model\n",
    "for i in range(2000):\n",
    "\tX, y = generate_data()\n",
    "\tmodel.fit(X, y, epochs=1, batch_size=5, verbose=2, shuffle=False)\n",
    "\tmodel.reset_states()\n",
    "# evaluate model on new data\n",
    "X, y = generate_data()\n",
    "yhat = model.predict(X, batch_size=5)\n",
    "print('Expected:  %s' % one_hot_decode(y))\n",
    "print('Predicted: %s' % one_hot_decode(yhat))"
   ]
  },
  {
   "cell_type": "code",
   "execution_count": null,
   "metadata": {},
   "outputs": [],
   "source": []
  }
 ],
 "metadata": {
  "kernelspec": {
   "display_name": "Python 3",
   "language": "python",
   "name": "python3"
  },
  "language_info": {
   "codemirror_mode": {
    "name": "ipython",
    "version": 3
   },
   "file_extension": ".py",
   "mimetype": "text/x-python",
   "name": "python",
   "nbconvert_exporter": "python",
   "pygments_lexer": "ipython3",
   "version": "3.6.8"
  }
 },
 "nbformat": 4,
 "nbformat_minor": 2
}
