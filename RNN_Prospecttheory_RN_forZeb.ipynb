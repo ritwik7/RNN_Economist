{
 "cells": [
  {
   "cell_type": "code",
   "execution_count": 94,
   "metadata": {},
   "outputs": [],
   "source": [
    "import tensorflow as tf\n",
    "import keras\n",
    "import numpy as np\n",
    "import os\n",
    "# to make this notebook's output stable across runs\n",
    "def reset_graph(seed=42):\n",
    "    tf.reset_default_graph()\n",
    "    tf.set_random_seed(seed)\n",
    "    np.random.seed(seed)\n",
    "\n",
    "# To plot pretty figures\n",
    "%matplotlib inline\n",
    "import matplotlib\n",
    "import matplotlib.pyplot as plt\n",
    "plt.rcParams['axes.labelsize'] = 14\n",
    "plt.rcParams['xtick.labelsize'] = 12\n",
    "plt.rcParams['ytick.labelsize'] = 12\n",
    "\n",
    "import pandas as pd\n",
    "from sklearn.preprocessing import MinMaxScaler, OneHotEncoder, LabelEncoder\n",
    "import seaborn as sns\n",
    "\n",
    "import scipy.stats as sc_stats"
   ]
  },
  {
   "cell_type": "code",
   "execution_count": 95,
   "metadata": {},
   "outputs": [
    {
     "name": "stdout",
     "output_type": "stream",
     "text": [
      "1.13.1\n"
     ]
    }
   ],
   "source": [
    "print(tf.__version__)"
   ]
  },
  {
   "cell_type": "markdown",
   "metadata": {},
   "source": [
    "# LSTM Prospect Theory\n"
   ]
  },
  {
   "cell_type": "markdown",
   "metadata": {},
   "source": [
    "## Preprocess data"
   ]
  },
  {
   "cell_type": "code",
   "execution_count": 96,
   "metadata": {},
   "outputs": [],
   "source": [
    "# file_path = \"/Users/ritwik7/Dropbox (Personal)/Postdoc_UCL/DATA/rlab_incomplete_rewardSWB_code/example_RKN\"\n",
    "# file_name = file_path + \"/subj_num_39.csv\"\n",
    "# file_path = \"/Users/ritwik7/Dropbox (Personal)/Postdoc_UCL/DATA/rlab_incomplete_rewardSWB_code/by_RN/placdata/subj_num_39\"\n",
    "# file_name = file_path + \"/experiment_data.csv\"\n",
    "\n",
    "file_path = \"/Users/ritwik7/Dropbox (Personal)/Postdoc_UCL/DATA/rlab_incomplete_rewardSWB_code/by_RN/placdata/subject_num_15/\"\n",
    "file_name = \"/Users/ritwik7/Dropbox (Personal)/Postdoc_UCL/DATA/rlab_incomplete_rewardSWB_code/by_RN/placdata/subject_num_15/experiment_data.csv\"\n",
    "file_dopa_name = \"/Users/ritwik7/Dropbox (Personal)/Postdoc_UCL/DATA/rlab_incomplete_rewardSWB_code/by_RN/dopadata/subject_num_15/dopa_experiment_data.csv\""
   ]
  },
  {
   "cell_type": "code",
   "execution_count": 5,
   "metadata": {},
   "outputs": [
    {
     "data": {
      "text/plain": [
       "['PT_result.mat',\n",
       " 'LSTM_metrics_all_subjs.csv',\n",
       " 'loglikelihoods_all',\n",
       " 'LSTM_metrics_10neurons.csv',\n",
       " 'LSTM_metrics.csv',\n",
       " 'experiment_data.csv']"
      ]
     },
     "execution_count": 5,
     "metadata": {},
     "output_type": "execute_result"
    }
   ],
   "source": [
    "os.listdir(file_path)"
   ]
  },
  {
   "cell_type": "code",
   "execution_count": 97,
   "metadata": {},
   "outputs": [
    {
     "data": {
      "text/html": [
       "<div>\n",
       "<style scoped>\n",
       "    .dataframe tbody tr th:only-of-type {\n",
       "        vertical-align: middle;\n",
       "    }\n",
       "\n",
       "    .dataframe tbody tr th {\n",
       "        vertical-align: top;\n",
       "    }\n",
       "\n",
       "    .dataframe thead th {\n",
       "        text-align: right;\n",
       "    }\n",
       "</style>\n",
       "<table border=\"1\" class=\"dataframe\">\n",
       "  <thead>\n",
       "    <tr style=\"text-align: right;\">\n",
       "      <th></th>\n",
       "      <th>TrialNum</th>\n",
       "      <th>SideOfScreen</th>\n",
       "      <th>Safe</th>\n",
       "      <th>BigRisky</th>\n",
       "      <th>SmallRisky</th>\n",
       "      <th>SideChosen</th>\n",
       "      <th>Choice</th>\n",
       "      <th>Outcome</th>\n",
       "      <th>RT</th>\n",
       "      <th>Happiness</th>\n",
       "    </tr>\n",
       "  </thead>\n",
       "  <tbody>\n",
       "    <tr>\n",
       "      <th>0</th>\n",
       "      <td>0</td>\n",
       "      <td>NaN</td>\n",
       "      <td>NaN</td>\n",
       "      <td>NaN</td>\n",
       "      <td>NaN</td>\n",
       "      <td>NaN</td>\n",
       "      <td>NaN</td>\n",
       "      <td>NaN</td>\n",
       "      <td>NaN</td>\n",
       "      <td>0.683594</td>\n",
       "    </tr>\n",
       "    <tr>\n",
       "      <th>1</th>\n",
       "      <td>1</td>\n",
       "      <td>1.0</td>\n",
       "      <td>-35.0</td>\n",
       "      <td>0.0</td>\n",
       "      <td>-175.0</td>\n",
       "      <td>2.0</td>\n",
       "      <td>0.0</td>\n",
       "      <td>-35.0</td>\n",
       "      <td>1.346</td>\n",
       "      <td>NaN</td>\n",
       "    </tr>\n",
       "    <tr>\n",
       "      <th>2</th>\n",
       "      <td>2</td>\n",
       "      <td>1.0</td>\n",
       "      <td>-15.0</td>\n",
       "      <td>0.0</td>\n",
       "      <td>-37.0</td>\n",
       "      <td>2.0</td>\n",
       "      <td>0.0</td>\n",
       "      <td>-15.0</td>\n",
       "      <td>1.848</td>\n",
       "      <td>NaN</td>\n",
       "    </tr>\n",
       "    <tr>\n",
       "      <th>3</th>\n",
       "      <td>3</td>\n",
       "      <td>1.0</td>\n",
       "      <td>-15.0</td>\n",
       "      <td>0.0</td>\n",
       "      <td>-27.0</td>\n",
       "      <td>1.0</td>\n",
       "      <td>1.0</td>\n",
       "      <td>-27.0</td>\n",
       "      <td>1.504</td>\n",
       "      <td>NaN</td>\n",
       "    </tr>\n",
       "    <tr>\n",
       "      <th>4</th>\n",
       "      <td>4</td>\n",
       "      <td>1.0</td>\n",
       "      <td>15.0</td>\n",
       "      <td>42.0</td>\n",
       "      <td>0.0</td>\n",
       "      <td>1.0</td>\n",
       "      <td>1.0</td>\n",
       "      <td>0.0</td>\n",
       "      <td>1.477</td>\n",
       "      <td>0.648438</td>\n",
       "    </tr>\n",
       "    <tr>\n",
       "      <th>5</th>\n",
       "      <td>5</td>\n",
       "      <td>1.0</td>\n",
       "      <td>-25.0</td>\n",
       "      <td>0.0</td>\n",
       "      <td>-56.0</td>\n",
       "      <td>2.0</td>\n",
       "      <td>0.0</td>\n",
       "      <td>-25.0</td>\n",
       "      <td>1.719</td>\n",
       "      <td>NaN</td>\n",
       "    </tr>\n",
       "    <tr>\n",
       "      <th>6</th>\n",
       "      <td>6</td>\n",
       "      <td>1.0</td>\n",
       "      <td>0.0</td>\n",
       "      <td>65.0</td>\n",
       "      <td>-65.0</td>\n",
       "      <td>1.0</td>\n",
       "      <td>1.0</td>\n",
       "      <td>-65.0</td>\n",
       "      <td>1.431</td>\n",
       "      <td>NaN</td>\n",
       "    </tr>\n",
       "    <tr>\n",
       "      <th>7</th>\n",
       "      <td>7</td>\n",
       "      <td>1.0</td>\n",
       "      <td>0.0</td>\n",
       "      <td>30.0</td>\n",
       "      <td>-45.0</td>\n",
       "      <td>2.0</td>\n",
       "      <td>0.0</td>\n",
       "      <td>0.0</td>\n",
       "      <td>1.549</td>\n",
       "      <td>NaN</td>\n",
       "    </tr>\n",
       "    <tr>\n",
       "      <th>8</th>\n",
       "      <td>8</td>\n",
       "      <td>1.0</td>\n",
       "      <td>-25.0</td>\n",
       "      <td>0.0</td>\n",
       "      <td>-56.0</td>\n",
       "      <td>2.0</td>\n",
       "      <td>0.0</td>\n",
       "      <td>-25.0</td>\n",
       "      <td>1.824</td>\n",
       "      <td>0.627604</td>\n",
       "    </tr>\n",
       "    <tr>\n",
       "      <th>9</th>\n",
       "      <td>9</td>\n",
       "      <td>1.0</td>\n",
       "      <td>0.0</td>\n",
       "      <td>80.0</td>\n",
       "      <td>-66.0</td>\n",
       "      <td>1.0</td>\n",
       "      <td>1.0</td>\n",
       "      <td>80.0</td>\n",
       "      <td>1.295</td>\n",
       "      <td>NaN</td>\n",
       "    </tr>\n",
       "  </tbody>\n",
       "</table>\n",
       "</div>"
      ],
      "text/plain": [
       "   TrialNum  SideOfScreen  Safe  BigRisky  SmallRisky  SideChosen  Choice  \\\n",
       "0         0           NaN   NaN       NaN         NaN         NaN     NaN   \n",
       "1         1           1.0 -35.0       0.0      -175.0         2.0     0.0   \n",
       "2         2           1.0 -15.0       0.0       -37.0         2.0     0.0   \n",
       "3         3           1.0 -15.0       0.0       -27.0         1.0     1.0   \n",
       "4         4           1.0  15.0      42.0         0.0         1.0     1.0   \n",
       "5         5           1.0 -25.0       0.0       -56.0         2.0     0.0   \n",
       "6         6           1.0   0.0      65.0       -65.0         1.0     1.0   \n",
       "7         7           1.0   0.0      30.0       -45.0         2.0     0.0   \n",
       "8         8           1.0 -25.0       0.0       -56.0         2.0     0.0   \n",
       "9         9           1.0   0.0      80.0       -66.0         1.0     1.0   \n",
       "\n",
       "   Outcome     RT  Happiness  \n",
       "0      NaN    NaN   0.683594  \n",
       "1    -35.0  1.346        NaN  \n",
       "2    -15.0  1.848        NaN  \n",
       "3    -27.0  1.504        NaN  \n",
       "4      0.0  1.477   0.648438  \n",
       "5    -25.0  1.719        NaN  \n",
       "6    -65.0  1.431        NaN  \n",
       "7      0.0  1.549        NaN  \n",
       "8    -25.0  1.824   0.627604  \n",
       "9     80.0  1.295        NaN  "
      ]
     },
     "execution_count": 97,
     "metadata": {},
     "output_type": "execute_result"
    }
   ],
   "source": [
    "task_df = pd.read_csv(file_name)\n",
    "task_df.head(10)"
   ]
  },
  {
   "cell_type": "code",
   "execution_count": 98,
   "metadata": {},
   "outputs": [
    {
     "data": {
      "text/plain": [
       "(301, 10)"
      ]
     },
     "execution_count": 98,
     "metadata": {},
     "output_type": "execute_result"
    }
   ],
   "source": [
    "task_df.shape"
   ]
  },
  {
   "cell_type": "code",
   "execution_count": 99,
   "metadata": {},
   "outputs": [
    {
     "data": {
      "text/html": [
       "<div>\n",
       "<style scoped>\n",
       "    .dataframe tbody tr th:only-of-type {\n",
       "        vertical-align: middle;\n",
       "    }\n",
       "\n",
       "    .dataframe tbody tr th {\n",
       "        vertical-align: top;\n",
       "    }\n",
       "\n",
       "    .dataframe thead th {\n",
       "        text-align: right;\n",
       "    }\n",
       "</style>\n",
       "<table border=\"1\" class=\"dataframe\">\n",
       "  <thead>\n",
       "    <tr style=\"text-align: right;\">\n",
       "      <th></th>\n",
       "      <th>TrialNum</th>\n",
       "      <th>SideOfScreen</th>\n",
       "      <th>Safe</th>\n",
       "      <th>BigRisky</th>\n",
       "      <th>SmallRisky</th>\n",
       "      <th>SideChosen</th>\n",
       "      <th>Choice</th>\n",
       "      <th>Outcome</th>\n",
       "      <th>RT</th>\n",
       "      <th>Happiness</th>\n",
       "    </tr>\n",
       "  </thead>\n",
       "  <tbody>\n",
       "    <tr>\n",
       "      <th>0</th>\n",
       "      <td>0</td>\n",
       "      <td>NaN</td>\n",
       "      <td>NaN</td>\n",
       "      <td>NaN</td>\n",
       "      <td>NaN</td>\n",
       "      <td>NaN</td>\n",
       "      <td>NaN</td>\n",
       "      <td>NaN</td>\n",
       "      <td>NaN</td>\n",
       "      <td>0.578125</td>\n",
       "    </tr>\n",
       "    <tr>\n",
       "      <th>1</th>\n",
       "      <td>1</td>\n",
       "      <td>2.0</td>\n",
       "      <td>15.0</td>\n",
       "      <td>54.0</td>\n",
       "      <td>0.0</td>\n",
       "      <td>2.0</td>\n",
       "      <td>1.0</td>\n",
       "      <td>0.0</td>\n",
       "      <td>1.418</td>\n",
       "      <td>NaN</td>\n",
       "    </tr>\n",
       "    <tr>\n",
       "      <th>2</th>\n",
       "      <td>2</td>\n",
       "      <td>2.0</td>\n",
       "      <td>0.0</td>\n",
       "      <td>30.0</td>\n",
       "      <td>-20.0</td>\n",
       "      <td>2.0</td>\n",
       "      <td>1.0</td>\n",
       "      <td>30.0</td>\n",
       "      <td>1.327</td>\n",
       "      <td>NaN</td>\n",
       "    </tr>\n",
       "    <tr>\n",
       "      <th>3</th>\n",
       "      <td>3</td>\n",
       "      <td>2.0</td>\n",
       "      <td>-15.0</td>\n",
       "      <td>0.0</td>\n",
       "      <td>-75.0</td>\n",
       "      <td>1.0</td>\n",
       "      <td>0.0</td>\n",
       "      <td>-15.0</td>\n",
       "      <td>1.845</td>\n",
       "      <td>NaN</td>\n",
       "    </tr>\n",
       "    <tr>\n",
       "      <th>4</th>\n",
       "      <td>4</td>\n",
       "      <td>2.0</td>\n",
       "      <td>-35.0</td>\n",
       "      <td>0.0</td>\n",
       "      <td>-175.0</td>\n",
       "      <td>1.0</td>\n",
       "      <td>0.0</td>\n",
       "      <td>-35.0</td>\n",
       "      <td>1.033</td>\n",
       "      <td>0.552083</td>\n",
       "    </tr>\n",
       "    <tr>\n",
       "      <th>5</th>\n",
       "      <td>5</td>\n",
       "      <td>2.0</td>\n",
       "      <td>20.0</td>\n",
       "      <td>36.0</td>\n",
       "      <td>0.0</td>\n",
       "      <td>1.0</td>\n",
       "      <td>0.0</td>\n",
       "      <td>20.0</td>\n",
       "      <td>1.798</td>\n",
       "      <td>NaN</td>\n",
       "    </tr>\n",
       "    <tr>\n",
       "      <th>6</th>\n",
       "      <td>6</td>\n",
       "      <td>2.0</td>\n",
       "      <td>-35.0</td>\n",
       "      <td>0.0</td>\n",
       "      <td>-126.0</td>\n",
       "      <td>1.0</td>\n",
       "      <td>0.0</td>\n",
       "      <td>-35.0</td>\n",
       "      <td>1.623</td>\n",
       "      <td>NaN</td>\n",
       "    </tr>\n",
       "    <tr>\n",
       "      <th>7</th>\n",
       "      <td>7</td>\n",
       "      <td>2.0</td>\n",
       "      <td>35.0</td>\n",
       "      <td>111.0</td>\n",
       "      <td>0.0</td>\n",
       "      <td>2.0</td>\n",
       "      <td>1.0</td>\n",
       "      <td>0.0</td>\n",
       "      <td>1.872</td>\n",
       "      <td>0.549479</td>\n",
       "    </tr>\n",
       "    <tr>\n",
       "      <th>8</th>\n",
       "      <td>8</td>\n",
       "      <td>2.0</td>\n",
       "      <td>30.0</td>\n",
       "      <td>84.0</td>\n",
       "      <td>0.0</td>\n",
       "      <td>2.0</td>\n",
       "      <td>1.0</td>\n",
       "      <td>0.0</td>\n",
       "      <td>1.725</td>\n",
       "      <td>NaN</td>\n",
       "    </tr>\n",
       "    <tr>\n",
       "      <th>9</th>\n",
       "      <td>9</td>\n",
       "      <td>2.0</td>\n",
       "      <td>30.0</td>\n",
       "      <td>150.0</td>\n",
       "      <td>0.0</td>\n",
       "      <td>2.0</td>\n",
       "      <td>1.0</td>\n",
       "      <td>150.0</td>\n",
       "      <td>0.999</td>\n",
       "      <td>NaN</td>\n",
       "    </tr>\n",
       "  </tbody>\n",
       "</table>\n",
       "</div>"
      ],
      "text/plain": [
       "   TrialNum  SideOfScreen  Safe  BigRisky  SmallRisky  SideChosen  Choice  \\\n",
       "0         0           NaN   NaN       NaN         NaN         NaN     NaN   \n",
       "1         1           2.0  15.0      54.0         0.0         2.0     1.0   \n",
       "2         2           2.0   0.0      30.0       -20.0         2.0     1.0   \n",
       "3         3           2.0 -15.0       0.0       -75.0         1.0     0.0   \n",
       "4         4           2.0 -35.0       0.0      -175.0         1.0     0.0   \n",
       "5         5           2.0  20.0      36.0         0.0         1.0     0.0   \n",
       "6         6           2.0 -35.0       0.0      -126.0         1.0     0.0   \n",
       "7         7           2.0  35.0     111.0         0.0         2.0     1.0   \n",
       "8         8           2.0  30.0      84.0         0.0         2.0     1.0   \n",
       "9         9           2.0  30.0     150.0         0.0         2.0     1.0   \n",
       "\n",
       "   Outcome     RT  Happiness  \n",
       "0      NaN    NaN   0.578125  \n",
       "1      0.0  1.418        NaN  \n",
       "2     30.0  1.327        NaN  \n",
       "3    -15.0  1.845        NaN  \n",
       "4    -35.0  1.033   0.552083  \n",
       "5     20.0  1.798        NaN  \n",
       "6    -35.0  1.623        NaN  \n",
       "7      0.0  1.872   0.549479  \n",
       "8      0.0  1.725        NaN  \n",
       "9    150.0  0.999        NaN  "
      ]
     },
     "execution_count": 99,
     "metadata": {},
     "output_type": "execute_result"
    }
   ],
   "source": [
    "dopa_task_df = pd.read_csv(file_dopa_name)\n",
    "dopa_task_df.head(10)"
   ]
  },
  {
   "cell_type": "code",
   "execution_count": null,
   "metadata": {},
   "outputs": [],
   "source": []
  },
  {
   "cell_type": "code",
   "execution_count": 44,
   "metadata": {},
   "outputs": [],
   "source": [
    "## for running a batch of all subjects"
   ]
  },
  {
   "cell_type": "code",
   "execution_count": 100,
   "metadata": {},
   "outputs": [],
   "source": [
    "all_subj_data_df = pd.DataFrame()\n",
    "all_subj_dopa_data_df = pd.DataFrame()\n",
    "\n",
    "for subj_num in range(11,27):\n",
    "#     print(subj_num)\n",
    "    file_name = \"/Users/ritwik7/Dropbox (Personal)/Postdoc_UCL/DATA/rlab_incomplete_rewardSWB_code/by_RN/placdata/subject_num_\" + str(subj_num) + \"/experiment_data.csv\"\n",
    "    all_subj_data_df = all_subj_data_df.append(pd.read_csv(file_name))\n",
    "    file_dopa_name = \"/Users/ritwik7/Dropbox (Personal)/Postdoc_UCL/DATA/rlab_incomplete_rewardSWB_code/by_RN/dopadata/subject_num_\" + str(subj_num) + \"/dopa_experiment_data.csv\"\n",
    "    all_subj_dopa_data_df = all_subj_dopa_data_df.append(pd.read_csv(file_dopa_name))\n",
    "    \n",
    "    "
   ]
  },
  {
   "cell_type": "code",
   "execution_count": 101,
   "metadata": {},
   "outputs": [],
   "source": [
    "# all_subj_data_df.shape"
   ]
  },
  {
   "cell_type": "code",
   "execution_count": 102,
   "metadata": {},
   "outputs": [],
   "source": [
    "# all_subj_data_df.tail(10)"
   ]
  },
  {
   "cell_type": "code",
   "execution_count": 103,
   "metadata": {},
   "outputs": [],
   "source": [
    "task_df  = all_subj_data_df\n",
    "dopa_task_df = all_subj_dopa_data_df"
   ]
  },
  {
   "cell_type": "code",
   "execution_count": null,
   "metadata": {},
   "outputs": [],
   "source": []
  },
  {
   "cell_type": "code",
   "execution_count": 104,
   "metadata": {},
   "outputs": [],
   "source": [
    "def add_releveant_features(task_df):\n",
    "\n",
    "\n",
    "    task_df['PrevOutcome']=task_df['Outcome'].shift(1)\n",
    "    task_df.loc[1,'PrevOutcome']= 0\n",
    "\n",
    "    task_df['PrevChoice']=task_df['Choice'].shift(1)\n",
    "    task_df.loc[1,'PrevChoice']= 0\n",
    "\n",
    "    task_df['PrevSafe']=task_df['Safe'].shift(1)\n",
    "    task_df.loc[1,'PrevSafe']= 0\n",
    "\n",
    "    task_df['PrevBigRisky']=task_df['BigRisky'].shift(1)\n",
    "    task_df.loc[1,'PrevBigRisky']= 0\n",
    "\n",
    "    task_df['PrevSmallRisky']=task_df['SmallRisky'].shift(1)\n",
    "    task_df.loc[1,'PrevSmallRisky']= 0\n",
    "    \n",
    "    return task_df\n",
    "\n",
    "task_df = add_releveant_features (task_df)\n",
    "dopa_task_df = add_releveant_features(dopa_task_df)"
   ]
  },
  {
   "cell_type": "code",
   "execution_count": 105,
   "metadata": {},
   "outputs": [],
   "source": [
    "# dopa_task_df.head(10)"
   ]
  },
  {
   "cell_type": "code",
   "execution_count": null,
   "metadata": {},
   "outputs": [],
   "source": []
  },
  {
   "cell_type": "markdown",
   "metadata": {},
   "source": [
    "## define task parameters"
   ]
  },
  {
   "cell_type": "code",
   "execution_count": 106,
   "metadata": {},
   "outputs": [],
   "source": [
    "time_steps = 300\n",
    "inputs = 8\n",
    "outputs = 2\n",
    "\n",
    "# adjust target(t) to depend on input (t-1)\n",
    "# df.Property = df.Property.shift(-1)\n",
    "\n",
    "\n",
    "# # # remove nans as a result of the shifted values\n",
    "# df = df.iloc[:-1,:]\n",
    "# df = df.values"
   ]
  },
  {
   "cell_type": "code",
   "execution_count": 107,
   "metadata": {},
   "outputs": [
    {
     "data": {
      "text/plain": [
       "300"
      ]
     },
     "execution_count": 107,
     "metadata": {},
     "output_type": "execute_result"
    }
   ],
   "source": [
    "time_steps"
   ]
  },
  {
   "cell_type": "code",
   "execution_count": 108,
   "metadata": {},
   "outputs": [],
   "source": [
    "# np.arange(0,task_df.shape[0],301)"
   ]
  },
  {
   "cell_type": "code",
   "execution_count": 109,
   "metadata": {},
   "outputs": [],
   "source": [
    "# label_encoder = LabelEncoder()\n",
    "# label_encoder.fit_transform(train_y)"
   ]
  },
  {
   "cell_type": "code",
   "execution_count": 110,
   "metadata": {},
   "outputs": [],
   "source": [
    "# task_df.loc[task_df.TrialNum!=0,:]"
   ]
  },
  {
   "cell_type": "code",
   "execution_count": 111,
   "metadata": {},
   "outputs": [],
   "source": [
    "# dopa_task_df.shape[0]"
   ]
  },
  {
   "cell_type": "markdown",
   "metadata": {},
   "source": [
    "## train_X, trainY"
   ]
  },
  {
   "cell_type": "code",
   "execution_count": 76,
   "metadata": {},
   "outputs": [
    {
     "name": "stderr",
     "output_type": "stream",
     "text": [
      "/Users/ritwik7/anaconda3/lib/python3.6/site-packages/sklearn/preprocessing/_encoders.py:371: FutureWarning: The handling of integer data will change in version 0.22. Currently, the categories are determined based on the range [0, max(values)], while in the future they will be determined based on the unique values.\n",
      "If you want the future behaviour and silence this warning, you can specify \"categories='auto'\".\n",
      "In case you used a LabelEncoder before this OneHotEncoder to convert the categories to integers, then you can now use the OneHotEncoder directly.\n",
      "  warnings.warn(msg, FutureWarning)\n",
      "/Users/ritwik7/anaconda3/lib/python3.6/site-packages/sklearn/preprocessing/_encoders.py:371: FutureWarning: The handling of integer data will change in version 0.22. Currently, the categories are determined based on the range [0, max(values)], while in the future they will be determined based on the unique values.\n",
      "If you want the future behaviour and silence this warning, you can specify \"categories='auto'\".\n",
      "In case you used a LabelEncoder before this OneHotEncoder to convert the categories to integers, then you can now use the OneHotEncoder directly.\n",
      "  warnings.warn(msg, FutureWarning)\n"
     ]
    }
   ],
   "source": [
    "# include_ind = np.setdiff1d(np.arange(task_df.shape[0]),np.arange(0,task_df.shape[0],301))\n",
    "# include_ind = np.arange(1,task_df.shape[0])\n",
    "# X_y_split\n",
    "## TRAIN\n",
    "# train_X = task_df.loc[include_ind,['Safe','BigRisky','SmallRisky']].values\n",
    "# train_y = task_df.loc[include_ind,['Choice']].values.astype(np.int32)\n",
    "\n",
    "\n",
    "# train_X = task_df.loc[task_df.TrialNum!=0,['Safe','BigRisky','SmallRisky']].values\n",
    "train_y = task_df.loc[task_df.TrialNum!=0,['Choice']].values.astype(np.int32)\n",
    "\n",
    "\n",
    "# ## TEST\n",
    "# test_X = dopa_task_df.loc[dopa_task_df.TrialNum!=0,['Safe','BigRisky','SmallRisky']].values\n",
    "test_y = dopa_task_df.loc[dopa_task_df.TrialNum!=0,['Choice']].values.astype(np.int32)\n",
    "\n",
    "train_X = task_df.loc[task_df.TrialNum!=0,['Safe','BigRisky','SmallRisky','PrevOutcome','PrevChoice','PrevSafe','PrevBigRisky','PrevSmallRisky']].values\n",
    "test_X = dopa_task_df.loc[dopa_task_df.TrialNum!=0,['Safe','BigRisky','SmallRisky','PrevOutcome','PrevChoice','PrevSafe','PrevBigRisky','PrevSmallRisky']].values\n",
    "\n",
    "extra_features = 5;\n",
    "\n",
    "\n",
    "\n",
    "# # center and scale\n",
    "scaler = MinMaxScaler(feature_range=(0, 1))    \n",
    "train_X = scaler.fit_transform(train_X)\n",
    "test_X = scaler.fit_transform(test_X)\n",
    "\n",
    "train_X[0,-extra_features + 1:]= 0;\n",
    "\n",
    "\n",
    "\n",
    "# # reshape input to 3D array\n",
    "# train_X = train_X[None,:,:]\n",
    "# test_X = test_X[None,:,:]\n",
    "\n",
    "\n",
    "train_X = train_X.reshape(-1,time_steps,inputs)\n",
    "test_X = test_X.reshape(-1,time_steps,inputs)\n",
    "\n",
    "\n",
    "\n",
    "# # one-hot encode the outputs\n",
    "\n",
    "onehot_encoder = OneHotEncoder()\n",
    "encode_categorical = train_y.reshape(len(train_y), 1)\n",
    "encode_categorical_test = test_y.reshape(len(test_y), 1)\n",
    "\n",
    "train_y = onehot_encoder.fit_transform(encode_categorical).toarray()\n",
    "test_y = onehot_encoder.fit_transform(encode_categorical_test).toarray()\n",
    "\n",
    "train_y =  train_y.reshape(-1,time_steps,outputs)\n",
    "test_y =  test_y.reshape(-1,time_steps,outputs)\n",
    "\n",
    "\n",
    "\n",
    "# train_y = train_y[None,:,:]\n",
    "# test_y = test_y[None,:,:]"
   ]
  },
  {
   "cell_type": "code",
   "execution_count": null,
   "metadata": {},
   "outputs": [],
   "source": []
  },
  {
   "cell_type": "code",
   "execution_count": 77,
   "metadata": {},
   "outputs": [],
   "source": [
    "# task_df.shape[1]"
   ]
  },
  {
   "cell_type": "code",
   "execution_count": 78,
   "metadata": {},
   "outputs": [
    {
     "data": {
      "text/plain": [
       "(16, 300, 8)"
      ]
     },
     "execution_count": 78,
     "metadata": {},
     "output_type": "execute_result"
    }
   ],
   "source": [
    "train_X.shape"
   ]
  },
  {
   "cell_type": "code",
   "execution_count": 79,
   "metadata": {},
   "outputs": [
    {
     "data": {
      "text/plain": [
       "(16, 300, 2)"
      ]
     },
     "execution_count": 79,
     "metadata": {},
     "output_type": "execute_result"
    }
   ],
   "source": [
    "train_y.shape"
   ]
  },
  {
   "cell_type": "code",
   "execution_count": 80,
   "metadata": {},
   "outputs": [],
   "source": [
    "# train_y"
   ]
  },
  {
   "cell_type": "code",
   "execution_count": 81,
   "metadata": {},
   "outputs": [],
   "source": [
    "# print(train_X)\n",
    "# print(train_y)"
   ]
  },
  {
   "cell_type": "code",
   "execution_count": 82,
   "metadata": {},
   "outputs": [
    {
     "name": "stdout",
     "output_type": "stream",
     "text": [
      "(16, 300, 8)\n",
      "(16, 300, 2)\n",
      "(16, 300, 8)\n",
      "(16, 300, 2)\n"
     ]
    }
   ],
   "source": [
    "print(train_X.shape)\n",
    "print(train_y.shape)\n",
    "\n",
    "print(test_X.shape)\n",
    "print(test_y.shape)"
   ]
  },
  {
   "cell_type": "code",
   "execution_count": 85,
   "metadata": {},
   "outputs": [],
   "source": [
    "# test_X"
   ]
  },
  {
   "cell_type": "markdown",
   "metadata": {},
   "source": [
    "## Construction phase"
   ]
  },
  {
   "cell_type": "code",
   "execution_count": 90,
   "metadata": {},
   "outputs": [
    {
     "name": "stdout",
     "output_type": "stream",
     "text": [
      "16\n",
      "(?, 300, 8)\n",
      "(?, 300, 2)\n",
      "(?, 300, 2)\n"
     ]
    }
   ],
   "source": [
    "learning_rate = 0.000001\n",
    "epochs = 2000\n",
    "batch_size = int(train_X.shape[0])\n",
    "he_init = tf.variance_scaling_initializer()\n",
    "\n",
    "\n",
    "print(batch_size)\n",
    "\n",
    "\n",
    "length = train_X.shape[0]\n",
    "display = 10 ## display loss function every display trials\n",
    "neurons = 100 ## number of neurons in LSTM cell\n",
    "save_step = 100\n",
    "\n",
    "\n",
    "best_loss_val = np.infty\n",
    "checks_since_last_progress = 0\n",
    "max_checks_without_progress = 20\n",
    "\n",
    "# # clear graph (if any) before running\n",
    "tf.reset_default_graph()\n",
    "\n",
    "X = tf.placeholder(tf.float32, [None, time_steps, inputs])\n",
    "y = tf.placeholder(tf.float32, [None, time_steps, outputs])\n",
    "\n",
    "print(X.shape)\n",
    "print(y.shape)\n",
    "\n",
    "# LSTM Cell\n",
    "cell = tf.contrib.rnn.BasicLSTMCell(num_units=neurons, activation=tf.nn.relu)\n",
    "cell_outputs, states = tf.nn.dynamic_rnn(cell, X, dtype=tf.float32)\n",
    "\n",
    "# # pass into Dense layer\n",
    "stacked_outputs = tf.reshape(cell_outputs, [-1, time_steps,neurons])\n",
    "out = tf.layers.dense(inputs=stacked_outputs, units=outputs) ## logits layer kernel_initializer=he_init\n",
    "\n",
    "print(out.shape)\n",
    "\n",
    "probability = tf.nn.softmax(out)\n",
    "\n",
    "\n",
    "# squared error loss or cost function for linear regression\n",
    "loss = tf.reduce_mean(tf.nn.softmax_cross_entropy_with_logits(\n",
    "        labels=y, logits=out))\n",
    "\n",
    "\n",
    "\n",
    "# # optimizer to minimize cost\n",
    "optimizer = tf.train.AdamOptimizer(learning_rate=learning_rate)\n",
    "training_op = optimizer.minimize(loss)\n",
    "\n",
    "init = tf.global_variables_initializer()\n",
    "saver = tf.train.Saver()\n"
   ]
  },
  {
   "cell_type": "code",
   "execution_count": 91,
   "metadata": {},
   "outputs": [
    {
     "name": "stdout",
     "output_type": "stream",
     "text": [
      "Tensor(\"ArgMax:0\", shape=(?, 300), dtype=int64)\n",
      "Tensor(\"ArgMax_1:0\", shape=(?, 300), dtype=int64)\n"
     ]
    }
   ],
   "source": [
    "print(tf.argmax(y,2))\n",
    "print(tf.arg_max(out,2))"
   ]
  },
  {
   "cell_type": "markdown",
   "metadata": {},
   "source": [
    "## define Metrics"
   ]
  },
  {
   "cell_type": "code",
   "execution_count": 92,
   "metadata": {},
   "outputs": [],
   "source": [
    "accuracy = tf.metrics.accuracy(labels =  tf.argmax(y, 2),\n",
    "                          predictions = tf.argmax(out, 2),\n",
    "                          name = \"accuracy\")\n",
    "# print(accuracy) -- this is a tuple\n",
    "acc_up,acc_val = accuracy\n",
    "\n",
    "precision = tf.metrics.precision(labels=tf.argmax(y, 2),\n",
    "                                 predictions=tf.argmax(out, 2),\n",
    "                                 name=\"precision\")\n",
    "prec_up,prec_val = precision\n",
    "\n",
    "\n",
    "recall = tf.metrics.recall(labels=tf.argmax(y, 2),\n",
    "                           predictions=tf.argmax(out, 2),\n",
    "                           name=\"recall\")\n",
    "\n",
    "auc = tf.metrics.auc(labels=tf.argmax(y, 2),\n",
    "                           predictions=tf.argmax(out, 2),\n",
    "                           name=\"auc\")\n",
    "f1 = 2 * accuracy[1] * recall[1] / ( precision[1] + recall[1] )"
   ]
  },
  {
   "cell_type": "markdown",
   "metadata": {},
   "source": [
    "## Execution phase"
   ]
  },
  {
   "cell_type": "code",
   "execution_count": 93,
   "metadata": {},
   "outputs": [
    {
     "name": "stdout",
     "output_type": "stream",
     "text": [
      "Step: 10  \tTraining loss: 0.6990088820457458\n",
      "Step: 10  \tTraining accuracy: 0.48625001311302185\n",
      "Step: 10  \tTest accuracy: 0.49291667342185974\n",
      "Step: 10  \tTest loss: 0.6970481872558594\n",
      "Step: 20  \tTraining loss: 0.6985108256340027\n",
      "Step: 20  \tTraining accuracy: 0.4906249940395355\n",
      "Step: 20  \tTest accuracy: 0.49286457896232605\n",
      "Step: 20  \tTest loss: 0.6966959834098816\n",
      "Step: 30  \tTraining loss: 0.6980476975440979\n",
      "Step: 30  \tTraining accuracy: 0.49149999022483826\n",
      "Step: 30  \tTest accuracy: 0.4928472340106964\n",
      "Step: 30  \tTest loss: 0.6963756680488586\n",
      "Step: 40  \tTraining loss: 0.6976175904273987\n",
      "Step: 40  \tTraining accuracy: 0.4918749928474426\n",
      "Step: 40  \tTest accuracy: 0.4928385317325592\n",
      "Step: 40  \tTest loss: 0.6960852146148682\n",
      "Step: 50  \tTraining loss: 0.6972169876098633\n",
      "Step: 50  \tTraining accuracy: 0.492083340883255\n",
      "Step: 50  \tTest accuracy: 0.49283334612846375\n",
      "Step: 50  \tTest loss: 0.6958203911781311\n",
      "Step: 60  \tTraining loss: 0.6968428492546082\n",
      "Step: 60  \tTraining accuracy: 0.4922159016132355\n",
      "Step: 60  \tTest accuracy: 0.4928298592567444\n",
      "Step: 60  \tTest loss: 0.6955775022506714\n",
      "Step: 70  \tTraining loss: 0.6964921355247498\n",
      "Step: 70  \tTraining accuracy: 0.4923076927661896\n",
      "Step: 70  \tTest accuracy: 0.4928273856639862\n",
      "Step: 70  \tTest loss: 0.6953529715538025\n",
      "Step: 80  \tTraining loss: 0.6961610317230225\n",
      "Step: 80  \tTraining accuracy: 0.492374986410141\n",
      "Step: 80  \tTest accuracy: 0.4928255081176758\n",
      "Step: 80  \tTest loss: 0.6951431632041931\n",
      "Step: 90  \tTraining loss: 0.695846676826477\n",
      "Step: 90  \tTraining accuracy: 0.49242648482322693\n",
      "Step: 90  \tTest accuracy: 0.49282407760620117\n",
      "Step: 90  \tTest loss: 0.6949459910392761\n",
      "Step: 100  \tTraining loss: 0.6955464482307434\n",
      "Step: 100  \tTraining accuracy: 0.49246710538864136\n",
      "Step: 100  \tTest accuracy: 0.49282291531562805\n",
      "Step: 100  \tTest loss: 0.6947588920593262\n",
      "Step: 110  \tTraining loss: 0.6952585577964783\n",
      "Step: 110  \tTraining accuracy: 0.49248015880584717\n",
      "Step: 110  \tTest accuracy: 0.49280303716659546\n",
      "Step: 110  \tTest loss: 0.6945809721946716\n",
      "Step: 120  \tTraining loss: 0.6949811577796936\n",
      "Step: 120  \tTraining accuracy: 0.49252718687057495\n",
      "Step: 120  \tTest accuracy: 0.49282118678092957\n",
      "Step: 120  \tTest loss: 0.6944096088409424\n",
      "Step: 130  \tTraining loss: 0.6947120428085327\n",
      "Step: 130  \tTraining accuracy: 0.49258333444595337\n",
      "Step: 130  \tTest accuracy: 0.4928525686264038\n",
      "Step: 130  \tTest loss: 0.6942429542541504\n",
      "Step: 140  \tTraining loss: 0.6944499611854553\n",
      "Step: 140  \tTraining accuracy: 0.4926157295703888\n",
      "Step: 140  \tTest accuracy: 0.4928497076034546\n",
      "Step: 140  \tTest loss: 0.6940804123878479\n",
      "Step: 150  \tTraining loss: 0.6941947340965271\n",
      "Step: 150  \tTraining accuracy: 0.4925718307495117\n",
      "Step: 150  \tTest accuracy: 0.4927777647972107\n",
      "Step: 150  \tTest loss: 0.6939213275909424\n",
      "Step: 160  \tTraining loss: 0.6939448118209839\n",
      "Step: 160  \tTraining accuracy: 0.4925537705421448\n",
      "Step: 160  \tTest accuracy: 0.4927408993244171\n",
      "Step: 160  \tTest loss: 0.6937643885612488\n",
      "Step: 170  \tTraining loss: 0.693699836730957\n",
      "Step: 170  \tTraining accuracy: 0.492683082818985\n",
      "Step: 170  \tTest accuracy: 0.49279412627220154\n",
      "Step: 170  \tTest loss: 0.6936089992523193\n",
      "Step: 180  \tTraining loss: 0.693458080291748\n",
      "Step: 180  \tTraining accuracy: 0.49277380108833313\n",
      "Step: 180  \tTest accuracy: 0.49280092120170593\n",
      "Step: 180  \tTest loss: 0.6934545636177063\n",
      "Step: 190  \tTraining loss: 0.6932177543640137\n",
      "Step: 190  \tTraining accuracy: 0.4930912256240845\n",
      "Step: 190  \tTest accuracy: 0.49314144253730774\n",
      "Step: 190  \tTest loss: 0.6933002471923828\n",
      "Step: 200  \tTraining loss: 0.6929787993431091\n",
      "Step: 200  \tTraining accuracy: 0.4934294819831848\n",
      "Step: 200  \tTest accuracy: 0.49351561069488525\n",
      "Step: 200  \tTest loss: 0.6931451559066772\n",
      "Step: 210  \tTraining loss: 0.6927394270896912\n",
      "Step: 210  \tTraining accuracy: 0.4938414692878723\n",
      "Step: 210  \tTest accuracy: 0.49396824836730957\n",
      "Step: 210  \tTest loss: 0.6929886937141418\n",
      "Step: 220  \tTraining loss: 0.6924992799758911\n",
      "Step: 220  \tTraining accuracy: 0.4944573640823364\n",
      "Step: 220  \tTest accuracy: 0.49461647868156433\n",
      "Step: 220  \tTest loss: 0.6928314566612244\n",
      "Step: 230  \tTraining loss: 0.6922581195831299\n",
      "Step: 230  \tTraining accuracy: 0.4953148066997528\n",
      "Step: 230  \tTest accuracy: 0.49568840861320496\n",
      "Step: 230  \tTest loss: 0.6926725506782532\n",
      "Step: 240  \tTraining loss: 0.6920153498649597\n",
      "Step: 240  \tTraining accuracy: 0.4965735673904419\n",
      "Step: 240  \tTest accuracy: 0.497052937746048\n",
      "Step: 240  \tTest loss: 0.6925113201141357\n",
      "Step: 250  \tTraining loss: 0.6917711496353149\n",
      "Step: 250  \tTraining accuracy: 0.49803146719932556\n",
      "Step: 250  \tTest accuracy: 0.4986875057220459\n",
      "Step: 250  \tTest loss: 0.6923465132713318\n",
      "Step: 260  \tTraining loss: 0.6915243268013\n",
      "Step: 260  \tTraining accuracy: 0.4998202621936798\n",
      "Step: 260  \tTest accuracy: 0.5005929470062256\n",
      "Step: 260  \tTest loss: 0.6921790838241577\n",
      "Step: 270  \tTraining loss: 0.6912746429443359\n",
      "Step: 270  \tTraining accuracy: 0.5017884969711304\n",
      "Step: 270  \tTest accuracy: 0.5025385618209839\n",
      "Step: 270  \tTest loss: 0.6920080780982971\n",
      "Step: 280  \tTraining loss: 0.6910207271575928\n",
      "Step: 280  \tTraining accuracy: 0.5037272572517395\n",
      "Step: 280  \tTest accuracy: 0.5045238137245178\n",
      "Step: 280  \tTest loss: 0.6918333768844604\n",
      "Step: 290  \tTraining loss: 0.6907629370689392\n",
      "Step: 290  \tTraining accuracy: 0.5056651830673218\n",
      "Step: 290  \tTest accuracy: 0.5065445303916931\n",
      "Step: 290  \tTest loss: 0.6916561722755432\n",
      "Step: 300  \tTraining loss: 0.6905001401901245\n",
      "Step: 300  \tTraining accuracy: 0.5076306462287903\n",
      "Step: 300  \tTest accuracy: 0.5085451602935791\n",
      "Step: 300  \tTest loss: 0.6914761066436768\n",
      "Step: 310  \tTraining loss: 0.6902317404747009\n",
      "Step: 310  \tTraining accuracy: 0.509586751461029\n",
      "Step: 310  \tTest accuracy: 0.5105006694793701\n",
      "Step: 310  \tTest loss: 0.6912912726402283\n",
      "Step: 320  \tTraining loss: 0.6899580359458923\n",
      "Step: 320  \tTraining accuracy: 0.5114418268203735\n",
      "Step: 320  \tTest accuracy: 0.5123144388198853\n",
      "Step: 320  \tTest loss: 0.6911019682884216\n",
      "Step: 330  \tTraining loss: 0.6896790862083435\n",
      "Step: 330  \tTraining accuracy: 0.5132692456245422\n",
      "Step: 330  \tTest accuracy: 0.5141130089759827\n",
      "Step: 330  \tTest loss: 0.6909082531929016\n",
      "Step: 340  \tTraining loss: 0.6893953680992126\n",
      "Step: 340  \tTraining accuracy: 0.5150279998779297\n",
      "Step: 340  \tTest accuracy: 0.5158271789550781\n",
      "Step: 340  \tTest loss: 0.6907090544700623\n",
      "Step: 350  \tTraining loss: 0.6891060471534729\n",
      "Step: 350  \tTraining accuracy: 0.5167179703712463\n",
      "Step: 350  \tTest accuracy: 0.5174940228462219\n",
      "Step: 350  \tTest loss: 0.6905047297477722\n",
      "Step: 360  \tTraining loss: 0.688809871673584\n",
      "Step: 360  \tTraining accuracy: 0.5183274745941162\n",
      "Step: 360  \tTest accuracy: 0.5190508961677551\n",
      "Step: 360  \tTest loss: 0.6902954578399658\n",
      "Step: 370  \tTraining loss: 0.6885059475898743\n",
      "Step: 370  \tTraining accuracy: 0.5198373198509216\n",
      "Step: 370  \tTest accuracy: 0.5205264687538147\n",
      "Step: 370  \tTest loss: 0.6900801658630371\n",
      "Step: 380  \tTraining loss: 0.6881916522979736\n",
      "Step: 380  \tTraining accuracy: 0.5213000178337097\n",
      "Step: 380  \tTest accuracy: 0.5219791531562805\n",
      "Step: 380  \tTest loss: 0.6898562908172607\n",
      "Step: 390  \tTraining loss: 0.6878640651702881\n",
      "Step: 390  \tTraining accuracy: 0.5227543115615845\n",
      "Step: 390  \tTest accuracy: 0.5234054327011108\n",
      "Step: 390  \tTest loss: 0.6896213889122009\n",
      "Step: 400  \tTraining loss: 0.6875230073928833\n",
      "Step: 400  \tTraining accuracy: 0.524153470993042\n",
      "Step: 400  \tTest accuracy: 0.524789035320282\n",
      "Step: 400  \tTest loss: 0.6893746852874756\n",
      "Step: 410  \tTraining loss: 0.6871659159660339\n",
      "Step: 410  \tTraining accuracy: 0.5255246758460999\n",
      "Step: 410  \tTest accuracy: 0.5261509418487549\n",
      "Step: 410  \tTest loss: 0.6891158819198608\n",
      "Step: 420  \tTraining loss: 0.6867892742156982\n",
      "Step: 420  \tTraining accuracy: 0.5268524289131165\n",
      "Step: 420  \tTest accuracy: 0.5274677872657776\n",
      "Step: 420  \tTest loss: 0.6888442635536194\n",
      "Step: 430  \tTraining loss: 0.6863913536071777\n",
      "Step: 430  \tTraining accuracy: 0.5281372666358948\n",
      "Step: 430  \tTest accuracy: 0.5287233591079712\n",
      "Step: 430  \tTest loss: 0.6885578036308289\n",
      "Step: 440  \tTraining loss: 0.6859685182571411\n",
      "Step: 440  \tTraining accuracy: 0.5293797850608826\n",
      "Step: 440  \tTest accuracy: 0.5299360752105713\n",
      "Step: 440  \tTest loss: 0.6882544755935669\n",
      "Step: 450  \tTraining loss: 0.6855130195617676\n",
      "Step: 450  \tTraining accuracy: 0.5305688381195068\n",
      "Step: 450  \tTest accuracy: 0.5311342477798462\n",
      "Step: 450  \tTest loss: 0.6879304051399231\n",
      "Step: 460  \tTraining loss: 0.6850142478942871\n",
      "Step: 460  \tTraining accuracy: 0.5317422151565552\n",
      "Step: 460  \tTest accuracy: 0.5322893857955933\n",
      "Step: 460  \tTest loss: 0.68758624792099\n",
      "Step: 470  \tTraining loss: 0.6844750046730042\n",
      "Step: 470  \tTraining accuracy: 0.5328629016876221\n",
      "Step: 470  \tTest accuracy: 0.5333954095840454\n",
      "Step: 470  \tTest loss: 0.6872150897979736\n",
      "Step: 480  \tTraining loss: 0.6838881373405457\n",
      "Step: 480  \tTraining accuracy: 0.5339429974555969\n",
      "Step: 480  \tTest accuracy: 0.5344704985618591\n",
      "Step: 480  \tTest loss: 0.6868124604225159\n",
      "Step: 490  \tTraining loss: 0.6832388043403625\n",
      "Step: 490  \tTraining accuracy: 0.5350064635276794\n",
      "Step: 490  \tTest accuracy: 0.5355123281478882\n",
      "Step: 490  \tTest loss: 0.6863679885864258\n",
      "Step: 500  \tTraining loss: 0.6825191974639893\n",
      "Step: 500  \tTraining accuracy: 0.5360332727432251\n",
      "Step: 500  \tTest accuracy: 0.5365041494369507\n",
      "Step: 500  \tTest loss: 0.6858826875686646\n",
      "Step: 510  \tTraining loss: 0.6817101836204529\n",
      "Step: 510  \tTraining accuracy: 0.5370193719863892\n",
      "Step: 510  \tTest accuracy: 0.5374795794487\n",
      "Step: 510  \tTest loss: 0.6853457093238831\n",
      "Step: 520  \tTraining loss: 0.680789589881897\n",
      "Step: 520  \tTraining accuracy: 0.5379571318626404\n",
      "Step: 520  \tTest accuracy: 0.5383914113044739\n",
      "Step: 520  \tTest loss: 0.6847503185272217\n",
      "Step: 530  \tTraining loss: 0.6797456741333008\n",
      "Step: 530  \tTraining accuracy: 0.5388392806053162\n",
      "Step: 530  \tTest accuracy: 0.5392492413520813\n",
      "Step: 530  \tTest loss: 0.6840830445289612\n",
      "Step: 540  \tTraining loss: 0.6785486936569214\n",
      "Step: 540  \tTraining accuracy: 0.5396865010261536\n",
      "Step: 540  \tTest accuracy: 0.5400771498680115\n",
      "Step: 540  \tTest loss: 0.6833353638648987\n",
      "Step: 550  \tTraining loss: 0.6771578788757324\n",
      "Step: 550  \tTraining accuracy: 0.5405160784721375\n",
      "Step: 550  \tTest accuracy: 0.5408920645713806\n",
      "Step: 550  \tTest loss: 0.6824913024902344\n",
      "Step: 560  \tTraining loss: 0.6755083203315735\n",
      "Step: 560  \tTraining accuracy: 0.5413194298744202\n",
      "Step: 560  \tTest accuracy: 0.5416666865348816\n",
      "Step: 560  \tTest loss: 0.6815285086631775\n",
      "Step: 570  \tTraining loss: 0.6734940409660339\n",
      "Step: 570  \tTraining accuracy: 0.5420851707458496\n",
      "Step: 570  \tTest accuracy: 0.5424250960350037\n",
      "Step: 570  \tTest loss: 0.6803904175758362\n",
      "Step: 580  \tTraining loss: 0.6708771586418152\n",
      "Step: 580  \tTraining accuracy: 0.5428152084350586\n",
      "Step: 580  \tTest accuracy: 0.5431501269340515\n",
      "Step: 580  \tTest loss: 0.6789952516555786\n",
      "Step: 590  \tTraining loss: 0.6669521331787109\n",
      "Step: 590  \tTraining accuracy: 0.5435310006141663\n",
      "Step: 590  \tTest accuracy: 0.5438541769981384\n",
      "Step: 590  \tTest loss: 0.6772206425666809\n",
      "Step: 600  \tTraining loss: 0.6619755625724792\n",
      "Step: 600  \tTraining accuracy: 0.5443172454833984\n",
      "Step: 600  \tTest accuracy: 0.5446961522102356\n",
      "Step: 600  \tTest loss: 0.674838125705719\n",
      "Step: 610  \tTraining loss: 0.6608974933624268\n",
      "Step: 610  \tTraining accuracy: 0.5451670289039612\n",
      "Step: 610  \tTest accuracy: 0.5455344915390015\n",
      "Step: 610  \tTest loss: 0.6736897230148315\n",
      "Step: 620  \tTraining loss: 0.6620824933052063\n",
      "Step: 620  \tTraining accuracy: 0.5459620356559753\n",
      "Step: 620  \tTest accuracy: 0.5462920069694519\n",
      "Step: 620  \tTest loss: 0.6737850904464722\n",
      "Step: 630  \tTraining loss: 0.6606090068817139\n",
      "Step: 630  \tTraining accuracy: 0.5466949939727783\n",
      "Step: 630  \tTest accuracy: 0.5470337271690369\n",
      "Step: 630  \tTest loss: 0.6731618642807007\n",
      "Step: 640  \tTraining loss: 0.6598452925682068\n",
      "Step: 640  \tTraining accuracy: 0.5474507808685303\n",
      "Step: 640  \tTest accuracy: 0.5477734208106995\n",
      "Step: 640  \tTest loss: 0.6727553009986877\n",
      "Step: 650  \tTraining loss: 0.6595154404640198\n",
      "Step: 650  \tTraining accuracy: 0.5481799244880676\n",
      "Step: 650  \tTest accuracy: 0.5484920144081116\n",
      "Step: 650  \tTest loss: 0.6724386811256409\n",
      "Step: 660  \tTraining loss: 0.6591957807540894\n",
      "Step: 660  \tTraining accuracy: 0.5488836169242859\n",
      "Step: 660  \tTest accuracy: 0.5491777062416077\n",
      "Step: 660  \tTest loss: 0.672133207321167\n",
      "Step: 670  \tTraining loss: 0.6588826775550842\n",
      "Step: 670  \tTraining accuracy: 0.5495473146438599\n",
      "Step: 670  \tTest accuracy: 0.5498290061950684\n",
      "Step: 670  \tTest loss: 0.6718320250511169\n",
      "Step: 680  \tTraining loss: 0.6585764288902283\n",
      "Step: 680  \tTraining accuracy: 0.550191342830658\n",
      "Step: 680  \tTest accuracy: 0.5504641532897949\n",
      "Step: 680  \tTest loss: 0.6715391278266907\n",
      "Step: 690  \tTraining loss: 0.6582721471786499\n",
      "Step: 690  \tTraining accuracy: 0.5508165955543518\n",
      "Step: 690  \tTest accuracy: 0.5510839223861694\n",
      "Step: 690  \tTest loss: 0.6712532639503479\n",
      "Step: 700  \tTraining loss: 0.6579698920249939\n",
      "Step: 700  \tTraining accuracy: 0.5514208674430847\n",
      "Step: 700  \tTest accuracy: 0.5516785979270935\n",
      "Step: 700  \tTest loss: 0.6709727048873901\n",
      "Step: 710  \tTraining loss: 0.6576704978942871\n",
      "Step: 710  \tTraining accuracy: 0.5520138740539551\n",
      "Step: 710  \tTest accuracy: 0.5522667169570923\n",
      "Step: 710  \tTest loss: 0.6706957817077637\n",
      "Step: 720  \tTraining loss: 0.6573709845542908\n",
      "Step: 720  \tTraining accuracy: 0.5525961518287659\n",
      "Step: 720  \tTest accuracy: 0.5528443455696106\n",
      "Step: 720  \tTest loss: 0.6704222559928894\n",
      "Step: 730  \tTraining loss: 0.6570756435394287\n",
      "Step: 730  \tTraining accuracy: 0.5531637668609619\n",
      "Step: 730  \tTest accuracy: 0.5534075498580933\n",
      "Step: 730  \tTest loss: 0.6701556444168091\n",
      "Step: 740  \tTraining loss: 0.656783938407898\n",
      "Step: 740  \tTraining accuracy: 0.553724467754364\n",
      "Step: 740  \tTest accuracy: 0.5539611577987671\n",
      "Step: 740  \tTest loss: 0.6698969602584839\n",
      "Step: 750  \tTraining loss: 0.6564962863922119\n",
      "Step: 750  \tTraining accuracy: 0.5542729496955872\n",
      "Step: 750  \tTest accuracy: 0.5545027852058411\n",
      "Step: 750  \tTest loss: 0.6696485280990601\n",
      "Step: 760  \tTraining loss: 0.6562177538871765\n",
      "Step: 760  \tTraining accuracy: 0.5548027157783508\n",
      "Step: 760  \tTest accuracy: 0.5550205707550049\n",
      "Step: 760  \tTest loss: 0.6694140434265137\n",
      "Step: 770  \tTraining loss: 0.655951201915741\n",
      "Step: 770  \tTraining accuracy: 0.5553131699562073\n",
      "Step: 770  \tTest accuracy: 0.555530309677124\n",
      "Step: 770  \tTest loss: 0.6691963076591492\n",
      "Step: 780  \tTraining loss: 0.655695915222168\n",
      "Step: 780  \tTraining accuracy: 0.5558225512504578\n",
      "Step: 780  \tTest accuracy: 0.5560336709022522\n",
      "Step: 780  \tTest loss: 0.668999969959259\n",
      "Step: 790  \tTraining loss: 0.6554515361785889\n",
      "Step: 790  \tTraining accuracy: 0.556313693523407\n",
      "Step: 790  \tTest accuracy: 0.5565124154090881\n",
      "Step: 790  \tTest loss: 0.6688287258148193\n",
      "Step: 800  \tTraining loss: 0.6552191376686096\n",
      "Step: 800  \tTraining accuracy: 0.556793749332428\n",
      "Step: 800  \tTest accuracy: 0.5569856762886047\n",
      "Step: 800  \tTest loss: 0.6686794757843018\n",
      "Step: 810  \tTraining loss: 0.6549999713897705\n",
      "Step: 810  \tTraining accuracy: 0.5572670698165894\n",
      "Step: 810  \tTest accuracy: 0.5574665665626526\n",
      "Step: 810  \tTest loss: 0.6685487627983093\n",
      "Step: 820  \tTraining loss: 0.6547943353652954\n",
      "Step: 820  \tTraining accuracy: 0.5577377080917358\n",
      "Step: 820  \tTest accuracy: 0.5579319000244141\n",
      "Step: 820  \tTest loss: 0.668438732624054\n",
      "Step: 830  \tTraining loss: 0.6546022891998291\n",
      "Step: 830  \tTraining accuracy: 0.5581994652748108\n",
      "Step: 830  \tTest accuracy: 0.5583986043930054\n",
      "Step: 830  \tTest loss: 0.668350100517273\n",
      "Step: 840  \tTraining loss: 0.654420793056488\n",
      "Step: 840  \tTraining accuracy: 0.5586514472961426\n",
      "Step: 840  \tTest accuracy: 0.5588516592979431\n",
      "Step: 840  \tTest loss: 0.6682679057121277\n",
      "Step: 850  \tTraining loss: 0.6542496085166931\n",
      "Step: 850  \tTraining accuracy: 0.5591074824333191\n",
      "Step: 850  \tTest accuracy: 0.5592978000640869\n",
      "Step: 850  \tTest loss: 0.6681920886039734\n",
      "Step: 860  \tTraining loss: 0.6540838479995728\n",
      "Step: 860  \tTraining accuracy: 0.5595516562461853\n",
      "Step: 860  \tTest accuracy: 0.5597395896911621\n",
      "Step: 860  \tTest loss: 0.6681228876113892\n",
      "Step: 870  \tTraining loss: 0.6539273858070374\n",
      "Step: 870  \tTraining accuracy: 0.5599879622459412\n",
      "Step: 870  \tTest accuracy: 0.5601736307144165\n",
      "Step: 870  \tTest loss: 0.66805499792099\n",
      "Step: 880  \tTraining loss: 0.6537750363349915\n",
      "Step: 880  \tTraining accuracy: 0.560413122177124\n",
      "Step: 880  \tTest accuracy: 0.5605953931808472\n",
      "Step: 880  \tTest loss: 0.6679852604866028\n",
      "Step: 890  \tTraining loss: 0.6536254286766052\n",
      "Step: 890  \tTraining accuracy: 0.5608274340629578\n",
      "Step: 890  \tTest accuracy: 0.5610077381134033\n",
      "Step: 890  \tTest loss: 0.667915940284729\n",
      "Step: 900  \tTraining loss: 0.6534779667854309\n",
      "Step: 900  \tTraining accuracy: 0.5612348914146423\n",
      "Step: 900  \tTest accuracy: 0.5614120364189148\n",
      "Step: 900  \tTest loss: 0.6678411960601807\n",
      "Step: 910  \tTraining loss: 0.6533286571502686\n",
      "Step: 910  \tTraining accuracy: 0.5616424679756165\n",
      "Step: 910  \tTest accuracy: 0.5618120431900024\n",
      "Step: 910  \tTest loss: 0.6677468419075012\n",
      "Step: 920  \tTraining loss: 0.6531776785850525\n",
      "Step: 920  \tTraining accuracy: 0.5620355010032654\n",
      "Step: 920  \tTest accuracy: 0.5622056126594543\n",
      "Step: 920  \tTest loss: 0.6676424741744995\n",
      "Step: 930  \tTraining loss: 0.653030276298523\n",
      "Step: 930  \tTraining accuracy: 0.5624222755432129\n",
      "Step: 930  \tTest accuracy: 0.5625907182693481\n",
      "Step: 930  \tTest loss: 0.6675339937210083\n",
      "Step: 940  \tTraining loss: 0.6528849601745605\n",
      "Step: 940  \tTraining accuracy: 0.5627996921539307\n",
      "Step: 940  \tTest accuracy: 0.5629621148109436\n",
      "Step: 940  \tTest loss: 0.667432427406311\n",
      "Step: 950  \tTraining loss: 0.652741014957428\n",
      "Step: 950  \tTraining accuracy: 0.5631679892539978\n",
      "Step: 950  \tTest accuracy: 0.5633267760276794\n",
      "Step: 950  \tTest loss: 0.6673349738121033\n",
      "Step: 960  \tTraining loss: 0.6525960564613342\n",
      "Step: 960  \tTraining accuracy: 0.5635263919830322\n",
      "Step: 960  \tTest accuracy: 0.56368488073349\n",
      "Step: 960  \tTest loss: 0.6672284007072449\n",
      "Step: 970  \tTraining loss: 0.6524500250816345\n",
      "Step: 970  \tTraining accuracy: 0.5638816952705383\n",
      "Step: 970  \tTest accuracy: 0.5640367269515991\n",
      "Step: 970  \tTest loss: 0.6671301126480103\n",
      "Step: 980  \tTraining loss: 0.6523008942604065\n",
      "Step: 980  \tTraining accuracy: 0.5642328858375549\n",
      "Step: 980  \tTest accuracy: 0.5643866658210754\n",
      "Step: 980  \tTest loss: 0.66701740026474\n",
      "Step: 990  \tTraining loss: 0.6521478295326233\n",
      "Step: 990  \tTraining accuracy: 0.5645801424980164\n",
      "Step: 990  \tTest accuracy: 0.5647306442260742\n",
      "Step: 990  \tTest loss: 0.6669050455093384\n",
      "Step: 1000  \tTraining loss: 0.651989758014679\n",
      "Step: 1000  \tTraining accuracy: 0.5649204254150391\n",
      "Step: 1000  \tTest accuracy: 0.565067708492279\n",
      "Step: 1000  \tTest loss: 0.6667835712432861\n",
      "Step: 1010  \tTraining loss: 0.6518272161483765\n",
      "Step: 1010  \tTraining accuracy: 0.5652559995651245\n",
      "Step: 1010  \tTest accuracy: 0.5654042959213257\n",
      "Step: 1010  \tTest loss: 0.6666615009307861\n",
      "Step: 1020  \tTraining loss: 0.6516568660736084\n",
      "Step: 1020  \tTraining accuracy: 0.5655880570411682\n",
      "Step: 1020  \tTest accuracy: 0.5657362937927246\n",
      "Step: 1020  \tTest loss: 0.666533350944519\n",
      "Step: 1030  \tTraining loss: 0.6514780521392822\n",
      "Step: 1030  \tTraining accuracy: 0.5659166574478149\n",
      "Step: 1030  \tTest accuracy: 0.5660629272460938\n",
      "Step: 1030  \tTest loss: 0.6663955450057983\n",
      "Step: 1040  \tTraining loss: 0.6512899398803711\n",
      "Step: 1040  \tTraining accuracy: 0.5662409663200378\n",
      "Step: 1040  \tTest accuracy: 0.5663852095603943\n",
      "Step: 1040  \tTest loss: 0.6662471890449524\n",
      "Step: 1050  \tTraining loss: 0.6510948538780212\n",
      "Step: 1050  \tTraining accuracy: 0.5665689706802368\n",
      "Step: 1050  \tTest accuracy: 0.5667102932929993\n",
      "Step: 1050  \tTest loss: 0.6660937666893005\n",
      "Step: 1060  \tTraining loss: 0.6508916616439819\n",
      "Step: 1060  \tTraining accuracy: 0.5668907761573792\n",
      "Step: 1060  \tTest accuracy: 0.5670302510261536\n",
      "Step: 1060  \tTest loss: 0.6659466028213501\n",
      "Step: 1070  \tTraining loss: 0.6506748199462891\n",
      "Step: 1070  \tTraining accuracy: 0.5672045946121216\n",
      "Step: 1070  \tTest accuracy: 0.5673432350158691\n",
      "Step: 1070  \tTest loss: 0.6658035516738892\n",
      "Step: 1080  \tTraining loss: 0.650438666343689\n",
      "Step: 1080  \tTraining accuracy: 0.5675135850906372\n",
      "Step: 1080  \tTest accuracy: 0.5676514506340027\n",
      "Step: 1080  \tTest loss: 0.6656970381736755\n",
      "Step: 1090  \tTraining loss: 0.6501858234405518\n",
      "Step: 1090  \tTraining accuracy: 0.5678178071975708\n",
      "Step: 1090  \tTest accuracy: 0.5679510831832886\n",
      "Step: 1090  \tTest loss: 0.6656078100204468\n",
      "Step: 1100  \tTraining loss: 0.6499656438827515\n",
      "Step: 1100  \tTraining accuracy: 0.5681145191192627\n",
      "Step: 1100  \tTest accuracy: 0.5682480931282043\n",
      "Step: 1100  \tTest loss: 0.6653481125831604\n",
      "Step: 1110  \tTraining loss: 0.6497491598129272\n",
      "Step: 1110  \tTraining accuracy: 0.568408727645874\n",
      "Step: 1110  \tTest accuracy: 0.5685388445854187\n",
      "Step: 1110  \tTest loss: 0.6650676727294922\n",
      "Step: 1120  \tTraining loss: 0.6495279669761658\n",
      "Step: 1120  \tTraining accuracy: 0.5687088966369629\n",
      "Step: 1120  \tTest accuracy: 0.5688420534133911\n",
      "Step: 1120  \tTest loss: 0.6649555563926697\n",
      "Step: 1130  \tTraining loss: 0.6493073105812073\n",
      "Step: 1130  \tTraining accuracy: 0.569007396697998\n",
      "Step: 1130  \tTest accuracy: 0.5691381096839905\n",
      "Step: 1130  \tTest loss: 0.6647515892982483\n",
      "Step: 1140  \tTraining loss: 0.6490858197212219\n",
      "Step: 1140  \tTraining accuracy: 0.5693061947822571\n",
      "Step: 1140  \tTest accuracy: 0.5694334506988525\n",
      "Step: 1140  \tTest loss: 0.6646922826766968\n",
      "Step: 1150  \tTraining loss: 0.6488608717918396\n",
      "Step: 1150  \tTraining accuracy: 0.5696006417274475\n",
      "Step: 1150  \tTest accuracy: 0.5697282552719116\n",
      "Step: 1150  \tTest loss: 0.664608895778656\n",
      "Step: 1160  \tTraining loss: 0.6486303806304932\n",
      "Step: 1160  \tTraining accuracy: 0.5698962807655334\n",
      "Step: 1160  \tTest accuracy: 0.5700206756591797\n",
      "Step: 1160  \tTest loss: 0.6646822094917297\n",
      "Step: 1170  \tTraining loss: 0.6483958959579468\n",
      "Step: 1170  \tTraining accuracy: 0.5701922178268433\n",
      "Step: 1170  \tTest accuracy: 0.5703151822090149\n",
      "Step: 1170  \tTest loss: 0.6648086309432983\n",
      "Step: 1180  \tTraining loss: 70045200.0\n",
      "Step: 1180  \tTraining accuracy: 0.5704521536827087\n",
      "Step: 1180  \tTest accuracy: 0.5705490708351135\n",
      "Step: 1180  \tTest loss: 408.85821533203125\n",
      "Step: 1190  \tTraining loss: 30963539968.0\n",
      "Step: 1190  \tTraining accuracy: 0.570569634437561\n",
      "Step: 1190  \tTest accuracy: 0.5704910755157471\n",
      "Step: 1190  \tTest loss: 5000560128.0\n",
      "Step: 1200  \tTraining loss: nan\n",
      "Step: 1200  \tTraining accuracy: 0.5702545046806335\n",
      "Step: 1200  \tTest accuracy: 0.5699635148048401\n",
      "Step: 1200  \tTest loss: nan\n",
      "Step: 1210  \tTraining loss: nan\n",
      "Step: 1210  \tTraining accuracy: 0.5697311758995056\n",
      "Step: 1210  \tTest accuracy: 0.5694447159767151\n",
      "Step: 1210  \tTest loss: nan\n",
      "Step: 1220  \tTraining loss: nan\n",
      "Step: 1220  \tTraining accuracy: 0.5692163705825806\n"
     ]
    },
    {
     "ename": "KeyboardInterrupt",
     "evalue": "",
     "output_type": "error",
     "traceback": [
      "\u001b[0;31m---------------------------------------------------------------------------\u001b[0m",
      "\u001b[0;31mKeyboardInterrupt\u001b[0m                         Traceback (most recent call last)",
      "\u001b[0;32m<ipython-input-93-72d792260cfc>\u001b[0m in \u001b[0;36m<module>\u001b[0;34m\u001b[0m\n\u001b[1;32m     28\u001b[0m \u001b[0;34m\u001b[0m\u001b[0m\n\u001b[1;32m     29\u001b[0m \u001b[0;34m\u001b[0m\u001b[0m\n\u001b[0;32m---> 30\u001b[0;31m             \u001b[0macc_test\u001b[0m \u001b[0;34m=\u001b[0m \u001b[0macc_val\u001b[0m\u001b[0;34m.\u001b[0m\u001b[0meval\u001b[0m\u001b[0;34m(\u001b[0m\u001b[0mfeed_dict\u001b[0m\u001b[0;34m=\u001b[0m\u001b[0;34m{\u001b[0m\u001b[0mX\u001b[0m\u001b[0;34m:\u001b[0m \u001b[0mtest_X\u001b[0m\u001b[0;34m,\u001b[0m \u001b[0my\u001b[0m\u001b[0;34m:\u001b[0m \u001b[0mtest_y\u001b[0m\u001b[0;34m}\u001b[0m\u001b[0;34m)\u001b[0m\u001b[0;34m\u001b[0m\u001b[0;34m\u001b[0m\u001b[0m\n\u001b[0m\u001b[1;32m     31\u001b[0m             \u001b[0mprint\u001b[0m\u001b[0;34m(\u001b[0m\u001b[0;34m'Step: {}  \\tTest accuracy: {}'\u001b[0m\u001b[0;34m.\u001b[0m\u001b[0mformat\u001b[0m\u001b[0;34m(\u001b[0m\u001b[0;34m(\u001b[0m\u001b[0msteps\u001b[0m\u001b[0;34m+\u001b[0m\u001b[0;36m1\u001b[0m\u001b[0;34m)\u001b[0m\u001b[0;34m,\u001b[0m \u001b[0macc_test\u001b[0m\u001b[0;34m)\u001b[0m\u001b[0;34m)\u001b[0m\u001b[0;34m\u001b[0m\u001b[0;34m\u001b[0m\u001b[0m\n\u001b[1;32m     32\u001b[0m \u001b[0;34m\u001b[0m\u001b[0m\n",
      "\u001b[0;32m~/anaconda3/lib/python3.6/site-packages/tensorflow/python/framework/ops.py\u001b[0m in \u001b[0;36meval\u001b[0;34m(self, feed_dict, session)\u001b[0m\n\u001b[1;32m    693\u001b[0m \u001b[0;34m\u001b[0m\u001b[0m\n\u001b[1;32m    694\u001b[0m     \"\"\"\n\u001b[0;32m--> 695\u001b[0;31m     \u001b[0;32mreturn\u001b[0m \u001b[0m_eval_using_default_session\u001b[0m\u001b[0;34m(\u001b[0m\u001b[0mself\u001b[0m\u001b[0;34m,\u001b[0m \u001b[0mfeed_dict\u001b[0m\u001b[0;34m,\u001b[0m \u001b[0mself\u001b[0m\u001b[0;34m.\u001b[0m\u001b[0mgraph\u001b[0m\u001b[0;34m,\u001b[0m \u001b[0msession\u001b[0m\u001b[0;34m)\u001b[0m\u001b[0;34m\u001b[0m\u001b[0;34m\u001b[0m\u001b[0m\n\u001b[0m\u001b[1;32m    696\u001b[0m \u001b[0;34m\u001b[0m\u001b[0m\n\u001b[1;32m    697\u001b[0m \u001b[0;34m\u001b[0m\u001b[0m\n",
      "\u001b[0;32m~/anaconda3/lib/python3.6/site-packages/tensorflow/python/framework/ops.py\u001b[0m in \u001b[0;36m_eval_using_default_session\u001b[0;34m(tensors, feed_dict, graph, session)\u001b[0m\n\u001b[1;32m   5179\u001b[0m                        \u001b[0;34m\"the tensor's graph is different from the session's \"\u001b[0m\u001b[0;34m\u001b[0m\u001b[0;34m\u001b[0m\u001b[0m\n\u001b[1;32m   5180\u001b[0m                        \"graph.\")\n\u001b[0;32m-> 5181\u001b[0;31m   \u001b[0;32mreturn\u001b[0m \u001b[0msession\u001b[0m\u001b[0;34m.\u001b[0m\u001b[0mrun\u001b[0m\u001b[0;34m(\u001b[0m\u001b[0mtensors\u001b[0m\u001b[0;34m,\u001b[0m \u001b[0mfeed_dict\u001b[0m\u001b[0;34m)\u001b[0m\u001b[0;34m\u001b[0m\u001b[0;34m\u001b[0m\u001b[0m\n\u001b[0m\u001b[1;32m   5182\u001b[0m \u001b[0;34m\u001b[0m\u001b[0m\n\u001b[1;32m   5183\u001b[0m \u001b[0;34m\u001b[0m\u001b[0m\n",
      "\u001b[0;32m~/anaconda3/lib/python3.6/site-packages/tensorflow/python/client/session.py\u001b[0m in \u001b[0;36mrun\u001b[0;34m(self, fetches, feed_dict, options, run_metadata)\u001b[0m\n\u001b[1;32m    927\u001b[0m     \u001b[0;32mtry\u001b[0m\u001b[0;34m:\u001b[0m\u001b[0;34m\u001b[0m\u001b[0;34m\u001b[0m\u001b[0m\n\u001b[1;32m    928\u001b[0m       result = self._run(None, fetches, feed_dict, options_ptr,\n\u001b[0;32m--> 929\u001b[0;31m                          run_metadata_ptr)\n\u001b[0m\u001b[1;32m    930\u001b[0m       \u001b[0;32mif\u001b[0m \u001b[0mrun_metadata\u001b[0m\u001b[0;34m:\u001b[0m\u001b[0;34m\u001b[0m\u001b[0;34m\u001b[0m\u001b[0m\n\u001b[1;32m    931\u001b[0m         \u001b[0mproto_data\u001b[0m \u001b[0;34m=\u001b[0m \u001b[0mtf_session\u001b[0m\u001b[0;34m.\u001b[0m\u001b[0mTF_GetBuffer\u001b[0m\u001b[0;34m(\u001b[0m\u001b[0mrun_metadata_ptr\u001b[0m\u001b[0;34m)\u001b[0m\u001b[0;34m\u001b[0m\u001b[0;34m\u001b[0m\u001b[0m\n",
      "\u001b[0;32m~/anaconda3/lib/python3.6/site-packages/tensorflow/python/client/session.py\u001b[0m in \u001b[0;36m_run\u001b[0;34m(self, handle, fetches, feed_dict, options, run_metadata)\u001b[0m\n\u001b[1;32m   1150\u001b[0m     \u001b[0;32mif\u001b[0m \u001b[0mfinal_fetches\u001b[0m \u001b[0;32mor\u001b[0m \u001b[0mfinal_targets\u001b[0m \u001b[0;32mor\u001b[0m \u001b[0;34m(\u001b[0m\u001b[0mhandle\u001b[0m \u001b[0;32mand\u001b[0m \u001b[0mfeed_dict_tensor\u001b[0m\u001b[0;34m)\u001b[0m\u001b[0;34m:\u001b[0m\u001b[0;34m\u001b[0m\u001b[0;34m\u001b[0m\u001b[0m\n\u001b[1;32m   1151\u001b[0m       results = self._do_run(handle, final_targets, final_fetches,\n\u001b[0;32m-> 1152\u001b[0;31m                              feed_dict_tensor, options, run_metadata)\n\u001b[0m\u001b[1;32m   1153\u001b[0m     \u001b[0;32melse\u001b[0m\u001b[0;34m:\u001b[0m\u001b[0;34m\u001b[0m\u001b[0;34m\u001b[0m\u001b[0m\n\u001b[1;32m   1154\u001b[0m       \u001b[0mresults\u001b[0m \u001b[0;34m=\u001b[0m \u001b[0;34m[\u001b[0m\u001b[0;34m]\u001b[0m\u001b[0;34m\u001b[0m\u001b[0;34m\u001b[0m\u001b[0m\n",
      "\u001b[0;32m~/anaconda3/lib/python3.6/site-packages/tensorflow/python/client/session.py\u001b[0m in \u001b[0;36m_do_run\u001b[0;34m(self, handle, target_list, fetch_list, feed_dict, options, run_metadata)\u001b[0m\n\u001b[1;32m   1326\u001b[0m     \u001b[0;32mif\u001b[0m \u001b[0mhandle\u001b[0m \u001b[0;32mis\u001b[0m \u001b[0;32mNone\u001b[0m\u001b[0;34m:\u001b[0m\u001b[0;34m\u001b[0m\u001b[0;34m\u001b[0m\u001b[0m\n\u001b[1;32m   1327\u001b[0m       return self._do_call(_run_fn, feeds, fetches, targets, options,\n\u001b[0;32m-> 1328\u001b[0;31m                            run_metadata)\n\u001b[0m\u001b[1;32m   1329\u001b[0m     \u001b[0;32melse\u001b[0m\u001b[0;34m:\u001b[0m\u001b[0;34m\u001b[0m\u001b[0;34m\u001b[0m\u001b[0m\n\u001b[1;32m   1330\u001b[0m       \u001b[0;32mreturn\u001b[0m \u001b[0mself\u001b[0m\u001b[0;34m.\u001b[0m\u001b[0m_do_call\u001b[0m\u001b[0;34m(\u001b[0m\u001b[0m_prun_fn\u001b[0m\u001b[0;34m,\u001b[0m \u001b[0mhandle\u001b[0m\u001b[0;34m,\u001b[0m \u001b[0mfeeds\u001b[0m\u001b[0;34m,\u001b[0m \u001b[0mfetches\u001b[0m\u001b[0;34m)\u001b[0m\u001b[0;34m\u001b[0m\u001b[0;34m\u001b[0m\u001b[0m\n",
      "\u001b[0;32m~/anaconda3/lib/python3.6/site-packages/tensorflow/python/client/session.py\u001b[0m in \u001b[0;36m_do_call\u001b[0;34m(self, fn, *args)\u001b[0m\n\u001b[1;32m   1332\u001b[0m   \u001b[0;32mdef\u001b[0m \u001b[0m_do_call\u001b[0m\u001b[0;34m(\u001b[0m\u001b[0mself\u001b[0m\u001b[0;34m,\u001b[0m \u001b[0mfn\u001b[0m\u001b[0;34m,\u001b[0m \u001b[0;34m*\u001b[0m\u001b[0margs\u001b[0m\u001b[0;34m)\u001b[0m\u001b[0;34m:\u001b[0m\u001b[0;34m\u001b[0m\u001b[0;34m\u001b[0m\u001b[0m\n\u001b[1;32m   1333\u001b[0m     \u001b[0;32mtry\u001b[0m\u001b[0;34m:\u001b[0m\u001b[0;34m\u001b[0m\u001b[0;34m\u001b[0m\u001b[0m\n\u001b[0;32m-> 1334\u001b[0;31m       \u001b[0;32mreturn\u001b[0m \u001b[0mfn\u001b[0m\u001b[0;34m(\u001b[0m\u001b[0;34m*\u001b[0m\u001b[0margs\u001b[0m\u001b[0;34m)\u001b[0m\u001b[0;34m\u001b[0m\u001b[0;34m\u001b[0m\u001b[0m\n\u001b[0m\u001b[1;32m   1335\u001b[0m     \u001b[0;32mexcept\u001b[0m \u001b[0merrors\u001b[0m\u001b[0;34m.\u001b[0m\u001b[0mOpError\u001b[0m \u001b[0;32mas\u001b[0m \u001b[0me\u001b[0m\u001b[0;34m:\u001b[0m\u001b[0;34m\u001b[0m\u001b[0;34m\u001b[0m\u001b[0m\n\u001b[1;32m   1336\u001b[0m       \u001b[0mmessage\u001b[0m \u001b[0;34m=\u001b[0m \u001b[0mcompat\u001b[0m\u001b[0;34m.\u001b[0m\u001b[0mas_text\u001b[0m\u001b[0;34m(\u001b[0m\u001b[0me\u001b[0m\u001b[0;34m.\u001b[0m\u001b[0mmessage\u001b[0m\u001b[0;34m)\u001b[0m\u001b[0;34m\u001b[0m\u001b[0;34m\u001b[0m\u001b[0m\n",
      "\u001b[0;32m~/anaconda3/lib/python3.6/site-packages/tensorflow/python/client/session.py\u001b[0m in \u001b[0;36m_run_fn\u001b[0;34m(feed_dict, fetch_list, target_list, options, run_metadata)\u001b[0m\n\u001b[1;32m   1317\u001b[0m       \u001b[0mself\u001b[0m\u001b[0;34m.\u001b[0m\u001b[0m_extend_graph\u001b[0m\u001b[0;34m(\u001b[0m\u001b[0;34m)\u001b[0m\u001b[0;34m\u001b[0m\u001b[0;34m\u001b[0m\u001b[0m\n\u001b[1;32m   1318\u001b[0m       return self._call_tf_sessionrun(\n\u001b[0;32m-> 1319\u001b[0;31m           options, feed_dict, fetch_list, target_list, run_metadata)\n\u001b[0m\u001b[1;32m   1320\u001b[0m \u001b[0;34m\u001b[0m\u001b[0m\n\u001b[1;32m   1321\u001b[0m     \u001b[0;32mdef\u001b[0m \u001b[0m_prun_fn\u001b[0m\u001b[0;34m(\u001b[0m\u001b[0mhandle\u001b[0m\u001b[0;34m,\u001b[0m \u001b[0mfeed_dict\u001b[0m\u001b[0;34m,\u001b[0m \u001b[0mfetch_list\u001b[0m\u001b[0;34m)\u001b[0m\u001b[0;34m:\u001b[0m\u001b[0;34m\u001b[0m\u001b[0;34m\u001b[0m\u001b[0m\n",
      "\u001b[0;32m~/anaconda3/lib/python3.6/site-packages/tensorflow/python/client/session.py\u001b[0m in \u001b[0;36m_call_tf_sessionrun\u001b[0;34m(self, options, feed_dict, fetch_list, target_list, run_metadata)\u001b[0m\n\u001b[1;32m   1405\u001b[0m     return tf_session.TF_SessionRun_wrapper(\n\u001b[1;32m   1406\u001b[0m         \u001b[0mself\u001b[0m\u001b[0;34m.\u001b[0m\u001b[0m_session\u001b[0m\u001b[0;34m,\u001b[0m \u001b[0moptions\u001b[0m\u001b[0;34m,\u001b[0m \u001b[0mfeed_dict\u001b[0m\u001b[0;34m,\u001b[0m \u001b[0mfetch_list\u001b[0m\u001b[0;34m,\u001b[0m \u001b[0mtarget_list\u001b[0m\u001b[0;34m,\u001b[0m\u001b[0;34m\u001b[0m\u001b[0;34m\u001b[0m\u001b[0m\n\u001b[0;32m-> 1407\u001b[0;31m         run_metadata)\n\u001b[0m\u001b[1;32m   1408\u001b[0m \u001b[0;34m\u001b[0m\u001b[0m\n\u001b[1;32m   1409\u001b[0m   \u001b[0;32mdef\u001b[0m \u001b[0m_call_tf_sessionprun\u001b[0m\u001b[0;34m(\u001b[0m\u001b[0mself\u001b[0m\u001b[0;34m,\u001b[0m \u001b[0mhandle\u001b[0m\u001b[0;34m,\u001b[0m \u001b[0mfeed_dict\u001b[0m\u001b[0;34m,\u001b[0m \u001b[0mfetch_list\u001b[0m\u001b[0;34m)\u001b[0m\u001b[0;34m:\u001b[0m\u001b[0;34m\u001b[0m\u001b[0;34m\u001b[0m\u001b[0m\n",
      "\u001b[0;31mKeyboardInterrupt\u001b[0m: "
     ]
    }
   ],
   "source": [
    "# with tf.Session() as sess:\n",
    "#     saver.restore(sess, \"./checkpts/RNN_LST_model_subject_num_11_final.ckpt\")\n",
    "\n",
    "with tf.Session() as sess:\n",
    "    # initialize all variables\n",
    "    tf.global_variables_initializer().run()\n",
    "    tf.local_variables_initializer().run()\n",
    "\n",
    "    # Train the model\n",
    "    for steps in range(epochs):\n",
    "        mini_batch = zip(range(0, length, batch_size),\n",
    "                   range(batch_size, length+1, batch_size))\n",
    "\n",
    "        # train data in mini-batches\n",
    "        for (start, end) in mini_batch:\n",
    "            # print(train_y[start:end,:])\n",
    "            sess.run(training_op, feed_dict = {X: train_X[start:end,:,:],\n",
    "                                               y: train_y[start:end,:,:]})\n",
    "\n",
    "        # print training performance \n",
    "        if (steps+1) % display == 0:\n",
    "            # evaluate loss function on training set\n",
    "            loss_fn = loss.eval(feed_dict = {X: train_X, y: train_y})\n",
    "            print('Step: {}  \\tTraining loss: {}'.format((steps+1), loss_fn))\n",
    "            \n",
    "            acc_train = acc_val.eval(feed_dict={X: train_X, y: train_y})\n",
    "            print('Step: {}  \\tTraining accuracy: {}'.format((steps+1), acc_train))\n",
    "            \n",
    "            \n",
    "            acc_test = acc_val.eval(feed_dict={X: test_X, y: test_y})\n",
    "            print('Step: {}  \\tTest accuracy: {}'.format((steps+1), acc_test))\n",
    "            \n",
    "            loss_test = loss.eval(feed_dict={X: test_X, y: test_y})\n",
    "            print('Step: {}  \\tTest loss: {}'.format((steps+1), loss_test))\n",
    "            \n",
    "            \n",
    "#             prec_test = prec_val.eval(feed_dict={X: train_X, y: train_y})\n",
    "#             print('Step: {}  \\tTraining Precision: {}'.format((steps+1), prec_test))\n",
    "\n",
    "            if loss_fn < best_loss_val:\n",
    "                    best_loss_val = loss_fn\n",
    "                    checks_since_last_progress = 0\n",
    "            else:\n",
    "                    checks_since_last_progress += 1\n",
    "        \n",
    "        \n",
    "        ## EARLY STOPPING\n",
    "        if checks_since_last_progress > max_checks_without_progress:\n",
    "            print(\"Early stopping!\")\n",
    "            break\n",
    "\n",
    "            \n",
    "        if (steps+1) % save_step ==0:\n",
    "            save_path = saver.save(sess, \"./checkpts/RNN_LST_model_all_subjects_all_features.ckpt\")\n",
    "        \n",
    "        \n",
    "        \n",
    "    # evaluate model accuracy\n",
    "    acc, prec, recall, f1,auc = sess.run([accuracy, precision, recall, f1,auc],\n",
    "                                     feed_dict = {X: train_X, y: train_y})\n",
    "    probchoice = probability.eval(feed_dict = {X: train_X, y: train_y})\n",
    "    prob_test = probability.eval(feed_dict = {X: test_X, y: test_y})\n",
    "\n",
    "    print('\\nEvaluation  on training set')\n",
    "    print('Accuracy:', acc[1])\n",
    "    print('Precision:', prec[1])\n",
    "    print('Recall:', recall[1])\n",
    "    print('F1 score:', f1)\n",
    "    print('AUC:', auc[1])\n",
    "    \n",
    "#     print(\"probability\",probchoice)\n",
    "    \n",
    "    save_path = saver.save(sess, \"./checkpts/RNN_LST_model_all_subjects_all_features.ckpt\")\n",
    "\n",
    "    \n",
    "\n",
    "metric_out_df= pd.DataFrame(np.array([acc[1],prec[1],recall[1],f1,auc[1],loss_fn,acc_test,loss_test,neurons,learning_rate,epochs]).reshape(-1,11),columns =[\"accuracy\",\"precision\",\"recall\",\"f1_score\",\"auc\",\"loss\",\"accuracy_test\",\"loss_test\",\"neurons\",\"learning_rate\",\"n_epochs\"])    "
   ]
  },
  {
   "cell_type": "code",
   "execution_count": null,
   "metadata": {},
   "outputs": [],
   "source": [
    "np.sum(probchoice[0,0,:])"
   ]
  },
  {
   "cell_type": "code",
   "execution_count": 450,
   "metadata": {},
   "outputs": [
    {
     "data": {
      "text/plain": [
       "(1, 300, 2)"
      ]
     },
     "execution_count": 450,
     "metadata": {},
     "output_type": "execute_result"
    }
   ],
   "source": [
    "probchoice.shape"
   ]
  },
  {
   "cell_type": "code",
   "execution_count": 453,
   "metadata": {},
   "outputs": [
    {
     "name": "stdout",
     "output_type": "stream",
     "text": [
      "-198.71244114637375\n"
     ]
    }
   ],
   "source": [
    "## for a specific subject\n",
    "ll = np.dot(train_y[0,:,0],np.log(probchoice[0,:,0]+0.0001)) + np.dot(train_y[0,:,1],np.log(probchoice[0,:,1]+0.0001))\n",
    "print(ll)"
   ]
  },
  {
   "cell_type": "code",
   "execution_count": 455,
   "metadata": {},
   "outputs": [
    {
     "data": {
      "text/plain": [
       "0.04439515531728855"
      ]
     },
     "execution_count": 455,
     "metadata": {},
     "output_type": "execute_result"
    }
   ],
   "source": [
    "1 - ll/(np.log(0.5)*300)"
   ]
  },
  {
   "cell_type": "code",
   "execution_count": 457,
   "metadata": {},
   "outputs": [
    {
     "data": {
      "text/plain": [
       "(1, 300, 2)"
      ]
     },
     "execution_count": 457,
     "metadata": {},
     "output_type": "execute_result"
    }
   ],
   "source": [
    "probchoice.shape"
   ]
  },
  {
   "cell_type": "code",
   "execution_count": null,
   "metadata": {},
   "outputs": [],
   "source": [
    "prob"
   ]
  },
  {
   "cell_type": "code",
   "execution_count": null,
   "metadata": {},
   "outputs": [],
   "source": []
  },
  {
   "cell_type": "code",
   "execution_count": 397,
   "metadata": {},
   "outputs": [],
   "source": [
    "loglike_train=[]; loglike_test =[];\n",
    "for subj_num in range(11,27):\n",
    "    loglike_train.append(np.dot(train_y[subj_num-11,:,0],np.log(probchoice[subj_num-11,:,0]+0.0001)) + np.dot(train_y[subj_num-11,:,1],np.log(probchoice[subj_num-11,:,1]+0.0001)) )\n",
    "    loglike_test.append(np.dot(test_y[subj_num-11,:,0],np.log(prob_test[subj_num-11,:,0]+0.0001)) + np.dot(test_y[subj_num-11,:,1],np.log(prob_test[subj_num-11,:,1]+0.0001)) )\n"
   ]
  },
  {
   "cell_type": "code",
   "execution_count": 398,
   "metadata": {},
   "outputs": [
    {
     "data": {
      "text/plain": [
       "[-207.22490936517715,\n",
       " -204.16755259037018,\n",
       " -208.8415709733963,\n",
       " -211.44044595956802,\n",
       " -206.97302973270416,\n",
       " -205.5558995604515,\n",
       " -202.69466334581375,\n",
       " -205.08332860469818,\n",
       " -204.75412076711655,\n",
       " -203.12668985128403,\n",
       " -199.87487679719925,\n",
       " -201.63625067472458,\n",
       " -204.39146316051483,\n",
       " -209.07946574687958,\n",
       " -197.55535835027695,\n",
       " -200.58777582645416]"
      ]
     },
     "execution_count": 398,
     "metadata": {},
     "output_type": "execute_result"
    }
   ],
   "source": [
    "loglike_train"
   ]
  },
  {
   "cell_type": "code",
   "execution_count": 399,
   "metadata": {},
   "outputs": [
    {
     "data": {
      "text/plain": [
       "[-206.7261511683464,\n",
       " -201.95139640569687,\n",
       " -206.31595557928085,\n",
       " -209.46393805742264,\n",
       " -206.60465663671494,\n",
       " -205.7004160284996,\n",
       " -205.74884968996048,\n",
       " -211.57007431983948,\n",
       " -203.55105710029602,\n",
       " -203.57157564163208,\n",
       " -201.21434617042542,\n",
       " -201.71536701917648,\n",
       " -206.82473623752594,\n",
       " -203.70757001638412,\n",
       " -199.20531463623047,\n",
       " -201.50381457805634]"
      ]
     },
     "execution_count": 399,
     "metadata": {},
     "output_type": "execute_result"
    }
   ],
   "source": [
    "loglike_test"
   ]
  },
  {
   "cell_type": "code",
   "execution_count": 468,
   "metadata": {},
   "outputs": [],
   "source": [
    "loglike_df = pd.DataFrame(np.array([loglike_train,loglike_test]).T,columns = ['loglike_train','loglike_test'])\n",
    "loglike_df.to_csv(file_path+\"loglikelihoods_all\")"
   ]
  },
  {
   "cell_type": "code",
   "execution_count": null,
   "metadata": {},
   "outputs": [],
   "source": []
  },
  {
   "cell_type": "code",
   "execution_count": null,
   "metadata": {},
   "outputs": [],
   "source": []
  },
  {
   "cell_type": "code",
   "execution_count": 470,
   "metadata": {},
   "outputs": [
    {
     "data": {
      "text/plain": [
       "8.512468218803406"
      ]
     },
     "execution_count": 470,
     "metadata": {},
     "output_type": "execute_result"
    }
   ],
   "source": [
    "ll- loglike_train[0]"
   ]
  },
  {
   "cell_type": "code",
   "execution_count": null,
   "metadata": {},
   "outputs": [],
   "source": [
    "plt.plot(probchoice.reshape(-1,2))"
   ]
  },
  {
   "cell_type": "code",
   "execution_count": null,
   "metadata": {},
   "outputs": [],
   "source": []
  },
  {
   "cell_type": "code",
   "execution_count": null,
   "metadata": {},
   "outputs": [],
   "source": []
  },
  {
   "cell_type": "code",
   "execution_count": 400,
   "metadata": {},
   "outputs": [
    {
     "data": {
      "text/plain": [
       "array([[0.50145316, 0.4985469 ],\n",
       "       [0.50205415, 0.49794582],\n",
       "       [0.48375067, 0.5162493 ],\n",
       "       [0.4785777 , 0.5214223 ],\n",
       "       [0.46550062, 0.53449935],\n",
       "       [0.4628367 , 0.5371633 ],\n",
       "       [0.47923592, 0.5207641 ],\n",
       "       [0.47389728, 0.5261027 ],\n",
       "       [0.46767515, 0.53232485],\n",
       "       [0.4868466 , 0.51315343],\n",
       "       [0.4990607 , 0.50093937],\n",
       "       [0.4822271 , 0.5177729 ],\n",
       "       [0.47689328, 0.52310675],\n",
       "       [0.49527875, 0.5047213 ],\n",
       "       [0.50808525, 0.49191478],\n",
       "       [0.48686492, 0.5131351 ],\n",
       "       [0.47626802, 0.52373195],\n",
       "       [0.46770725, 0.53229284],\n",
       "       [0.47002116, 0.5299789 ],\n",
       "       [0.4569358 , 0.5430642 ],\n",
       "       [0.46574152, 0.5342585 ],\n",
       "       [0.4673424 , 0.53265756],\n",
       "       [0.46310827, 0.53689176],\n",
       "       [0.45976675, 0.54023325],\n",
       "       [0.4604648 , 0.5395352 ],\n",
       "       [0.49489945, 0.50510055],\n",
       "       [0.47340846, 0.52659154],\n",
       "       [0.47672725, 0.52327275],\n",
       "       [0.48089767, 0.51910233],\n",
       "       [0.47123   , 0.52876997],\n",
       "       [0.48177573, 0.51822424],\n",
       "       [0.48912784, 0.5108722 ],\n",
       "       [0.48847008, 0.5115299 ],\n",
       "       [0.50024056, 0.49975944],\n",
       "       [0.52003735, 0.47996268],\n",
       "       [0.5387519 , 0.4612481 ],\n",
       "       [0.5150454 , 0.48495463],\n",
       "       [0.5203664 , 0.4796336 ],\n",
       "       [0.5204016 , 0.47959837],\n",
       "       [0.52213633, 0.47786364],\n",
       "       [0.5335364 , 0.46646363],\n",
       "       [0.522691  , 0.47730908],\n",
       "       [0.49223244, 0.5077676 ],\n",
       "       [0.5040776 , 0.4959224 ],\n",
       "       [0.49007696, 0.5099231 ],\n",
       "       [0.51976526, 0.4802348 ],\n",
       "       [0.5385585 , 0.46144152],\n",
       "       [0.54772   , 0.45228   ],\n",
       "       [0.5560783 , 0.4439217 ],\n",
       "       [0.5396706 , 0.4603294 ],\n",
       "       [0.5113705 , 0.48862958],\n",
       "       [0.5121391 , 0.48786095],\n",
       "       [0.5281345 , 0.47186542],\n",
       "       [0.517617  , 0.482383  ],\n",
       "       [0.5398634 , 0.46013656],\n",
       "       [0.5418255 , 0.45817456],\n",
       "       [0.5331857 , 0.46681428],\n",
       "       [0.5461951 , 0.45380488],\n",
       "       [0.55604196, 0.44395807],\n",
       "       [0.54321814, 0.45678183],\n",
       "       [0.53071964, 0.4692804 ],\n",
       "       [0.5058629 , 0.49413717],\n",
       "       [0.49565652, 0.5043435 ],\n",
       "       [0.5014291 , 0.49857092],\n",
       "       [0.48983425, 0.51016575],\n",
       "       [0.493307  , 0.50669295],\n",
       "       [0.49030632, 0.5096937 ],\n",
       "       [0.5032993 , 0.49670076],\n",
       "       [0.5087042 , 0.4912958 ],\n",
       "       [0.51171255, 0.4882875 ],\n",
       "       [0.5284089 , 0.47159114],\n",
       "       [0.53616196, 0.46383804],\n",
       "       [0.5117798 , 0.48822019],\n",
       "       [0.5059831 , 0.49401683],\n",
       "       [0.49300268, 0.5069973 ],\n",
       "       [0.500657  , 0.49934292],\n",
       "       [0.4949219 , 0.5050782 ],\n",
       "       [0.49842152, 0.5015785 ],\n",
       "       [0.50891733, 0.4910826 ],\n",
       "       [0.5009948 , 0.49900523],\n",
       "       [0.525757  , 0.47424296],\n",
       "       [0.5171976 , 0.48280236],\n",
       "       [0.5237642 , 0.47623578],\n",
       "       [0.49580896, 0.504191  ],\n",
       "       [0.5021003 , 0.49789968],\n",
       "       [0.5083802 , 0.49161988],\n",
       "       [0.51064223, 0.48935777],\n",
       "       [0.5094718 , 0.4905282 ],\n",
       "       [0.5321302 , 0.46786982],\n",
       "       [0.51352656, 0.48647347],\n",
       "       [0.5402519 , 0.4597481 ],\n",
       "       [0.54729843, 0.45270154],\n",
       "       [0.564278  , 0.435722  ],\n",
       "       [0.54148424, 0.45851573],\n",
       "       [0.55300415, 0.44699585],\n",
       "       [0.5460384 , 0.45396152],\n",
       "       [0.5344855 , 0.46551448],\n",
       "       [0.5077785 , 0.49222153],\n",
       "       [0.52839607, 0.4716039 ],\n",
       "       [0.52168036, 0.47831964],\n",
       "       [0.5255549 , 0.47444513],\n",
       "       [0.5414334 , 0.45856664],\n",
       "       [0.5500784 , 0.4499216 ],\n",
       "       [0.5324706 , 0.46752945],\n",
       "       [0.5301423 , 0.4698577 ],\n",
       "       [0.5485079 , 0.45149204],\n",
       "       [0.5509855 , 0.44901446],\n",
       "       [0.5283959 , 0.47160405],\n",
       "       [0.5414142 , 0.45858583],\n",
       "       [0.53203845, 0.46796152],\n",
       "       [0.5167045 , 0.48329544],\n",
       "       [0.5047612 , 0.49523878],\n",
       "       [0.51299524, 0.4870048 ],\n",
       "       [0.536679  , 0.46332094],\n",
       "       [0.54639715, 0.4536029 ],\n",
       "       [0.5388135 , 0.46118656],\n",
       "       [0.5492806 , 0.45071945],\n",
       "       [0.5257813 , 0.4742187 ],\n",
       "       [0.5142491 , 0.4857509 ],\n",
       "       [0.51323825, 0.48676178],\n",
       "       [0.5029271 , 0.49707285],\n",
       "       [0.5134858 , 0.48651415],\n",
       "       [0.5159173 , 0.48408273],\n",
       "       [0.5362895 , 0.46371046],\n",
       "       [0.5102055 , 0.4897945 ],\n",
       "       [0.51482123, 0.48517874],\n",
       "       [0.5181533 , 0.48184663],\n",
       "       [0.54181135, 0.45818865],\n",
       "       [0.5514605 , 0.44853947],\n",
       "       [0.55292046, 0.4470796 ],\n",
       "       [0.543618  , 0.456382  ],\n",
       "       [0.53655493, 0.4634451 ],\n",
       "       [0.53452915, 0.46547076],\n",
       "       [0.51675314, 0.48324686],\n",
       "       [0.50772345, 0.49227652],\n",
       "       [0.50285757, 0.49714237],\n",
       "       [0.48355561, 0.51644444],\n",
       "       [0.50026494, 0.49973506],\n",
       "       [0.52806187, 0.47193816],\n",
       "       [0.52519566, 0.4748043 ],\n",
       "       [0.52813053, 0.47186944],\n",
       "       [0.52474684, 0.47525313],\n",
       "       [0.52563363, 0.47436637],\n",
       "       [0.50735635, 0.49264365],\n",
       "       [0.52693534, 0.47306466],\n",
       "       [0.5359288 , 0.46407118],\n",
       "       [0.54558855, 0.45441142],\n",
       "       [0.5538488 , 0.44615117],\n",
       "       [0.5238844 , 0.4761156 ],\n",
       "       [0.53613025, 0.46386972],\n",
       "       [0.54265475, 0.45734522],\n",
       "       [0.5356143 , 0.4643857 ],\n",
       "       [0.52656174, 0.47343826],\n",
       "       [0.5439413 , 0.45605868],\n",
       "       [0.55556375, 0.4444363 ],\n",
       "       [0.5433921 , 0.45660788],\n",
       "       [0.5367859 , 0.46321413],\n",
       "       [0.52884144, 0.47115853],\n",
       "       [0.52581656, 0.4741834 ],\n",
       "       [0.5060708 , 0.4939292 ],\n",
       "       [0.533053  , 0.466947  ],\n",
       "       [0.54426014, 0.45573977],\n",
       "       [0.55254805, 0.44745192],\n",
       "       [0.54939187, 0.45060813],\n",
       "       [0.5337308 , 0.4662692 ],\n",
       "       [0.5219385 , 0.47806144],\n",
       "       [0.502144  , 0.4978561 ],\n",
       "       [0.48910758, 0.51089245],\n",
       "       [0.4973956 , 0.50260437],\n",
       "       [0.5195872 , 0.48041278],\n",
       "       [0.51812017, 0.48187983],\n",
       "       [0.5301374 , 0.46986255],\n",
       "       [0.5175216 , 0.48247838],\n",
       "       [0.5097512 , 0.49024883],\n",
       "       [0.50907403, 0.49092606],\n",
       "       [0.50504833, 0.49495175],\n",
       "       [0.49667737, 0.5033226 ],\n",
       "       [0.5169419 , 0.4830581 ],\n",
       "       [0.52993345, 0.47006652],\n",
       "       [0.5120819 , 0.48791808],\n",
       "       [0.5108409 , 0.48915914],\n",
       "       [0.5314935 , 0.46850654],\n",
       "       [0.51685464, 0.4831453 ],\n",
       "       [0.512622  , 0.48737806],\n",
       "       [0.51557636, 0.48442358],\n",
       "       [0.5174774 , 0.48252264],\n",
       "       [0.5119388 , 0.48806116],\n",
       "       [0.5002746 , 0.49972546],\n",
       "       [0.486461  , 0.5135389 ],\n",
       "       [0.4998971 , 0.5001029 ],\n",
       "       [0.52033347, 0.47966647],\n",
       "       [0.5213823 , 0.4786177 ],\n",
       "       [0.5420129 , 0.45798713],\n",
       "       [0.5232893 , 0.47671074],\n",
       "       [0.52433276, 0.4756672 ],\n",
       "       [0.5251137 , 0.4748864 ],\n",
       "       [0.53451747, 0.46548247],\n",
       "       [0.5268536 , 0.4731464 ],\n",
       "       [0.5437973 , 0.4562027 ],\n",
       "       [0.4996572 , 0.5003427 ],\n",
       "       [0.48417658, 0.5158235 ],\n",
       "       [0.5006479 , 0.4993521 ],\n",
       "       [0.52600825, 0.47399175],\n",
       "       [0.5384981 , 0.46150187],\n",
       "       [0.51285404, 0.487146  ],\n",
       "       [0.5119765 , 0.4880235 ],\n",
       "       [0.5090416 , 0.49095842],\n",
       "       [0.5124281 , 0.48757195],\n",
       "       [0.53193164, 0.4680683 ],\n",
       "       [0.5478084 , 0.45219162],\n",
       "       [0.5400847 , 0.45991522],\n",
       "       [0.53479284, 0.46520713],\n",
       "       [0.53174585, 0.4682541 ],\n",
       "       [0.522955  , 0.47704497],\n",
       "       [0.5025598 , 0.49744022],\n",
       "       [0.51109666, 0.48890334],\n",
       "       [0.51143914, 0.48856091],\n",
       "       [0.5365666 , 0.46343344],\n",
       "       [0.53202677, 0.46797314],\n",
       "       [0.5468701 , 0.45312992],\n",
       "       [0.5266207 , 0.47337928],\n",
       "       [0.53844494, 0.46155512],\n",
       "       [0.5506782 , 0.44932184],\n",
       "       [0.5499615 , 0.45003852],\n",
       "       [0.5492781 , 0.45072192],\n",
       "       [0.55329937, 0.44670066],\n",
       "       [0.56020194, 0.43979815],\n",
       "       [0.5254646 , 0.4745354 ],\n",
       "       [0.536522  , 0.463478  ],\n",
       "       [0.5265455 , 0.4734545 ],\n",
       "       [0.5059025 , 0.49409744],\n",
       "       [0.5268623 , 0.47313765],\n",
       "       [0.51911986, 0.4808802 ],\n",
       "       [0.5184739 , 0.48152614],\n",
       "       [0.50826794, 0.491732  ],\n",
       "       [0.51035005, 0.48964998],\n",
       "       [0.51152873, 0.48847127],\n",
       "       [0.52642936, 0.47357064],\n",
       "       [0.5128096 , 0.48719046],\n",
       "       [0.49694934, 0.5030506 ],\n",
       "       [0.48116043, 0.51883954],\n",
       "       [0.49255002, 0.50745   ],\n",
       "       [0.517271  , 0.48272902],\n",
       "       [0.50753593, 0.49246404],\n",
       "       [0.52542305, 0.47457695],\n",
       "       [0.52396214, 0.4760379 ],\n",
       "       [0.5420059 , 0.4579941 ],\n",
       "       [0.5273194 , 0.4726807 ],\n",
       "       [0.5187337 , 0.4812663 ],\n",
       "       [0.49637714, 0.5036229 ],\n",
       "       [0.522177  , 0.477823  ],\n",
       "       [0.5202979 , 0.47970214],\n",
       "       [0.5064069 , 0.49359307],\n",
       "       [0.48806617, 0.51193386],\n",
       "       [0.4998638 , 0.5001362 ],\n",
       "       [0.52682734, 0.4731727 ],\n",
       "       [0.5230162 , 0.47698382],\n",
       "       [0.53913677, 0.4608632 ],\n",
       "       [0.52857476, 0.4714252 ],\n",
       "       [0.5422693 , 0.45773065],\n",
       "       [0.5295238 , 0.47047627],\n",
       "       [0.5243005 , 0.47569945],\n",
       "       [0.5031165 , 0.49688354],\n",
       "       [0.49314466, 0.50685537],\n",
       "       [0.48138908, 0.51861095],\n",
       "       [0.508917  , 0.491083  ],\n",
       "       [0.4836349 , 0.5163652 ],\n",
       "       [0.5133276 , 0.48667237],\n",
       "       [0.49478596, 0.50521404],\n",
       "       [0.47321975, 0.5267802 ],\n",
       "       [0.5061955 , 0.49380445],\n",
       "       [0.50783485, 0.49216518],\n",
       "       [0.4999646 , 0.50003546],\n",
       "       [0.53033006, 0.46966997],\n",
       "       [0.5258121 , 0.47418794],\n",
       "       [0.5139107 , 0.4860893 ],\n",
       "       [0.53794485, 0.4620551 ],\n",
       "       [0.5456686 , 0.4543314 ],\n",
       "       [0.5540007 , 0.4459993 ],\n",
       "       [0.56063306, 0.43936688],\n",
       "       [0.5440591 , 0.45594096],\n",
       "       [0.51606643, 0.48393357],\n",
       "       [0.53967404, 0.460326  ],\n",
       "       [0.5226591 , 0.47734088],\n",
       "       [0.53625923, 0.46374077],\n",
       "       [0.53168684, 0.4683132 ],\n",
       "       [0.51236284, 0.48763722],\n",
       "       [0.51286083, 0.48713917],\n",
       "       [0.52014756, 0.47985244],\n",
       "       [0.5172096 , 0.48279044],\n",
       "       [0.5147623 , 0.4852377 ],\n",
       "       [0.53379875, 0.46620125],\n",
       "       [0.4995301 , 0.5004698 ],\n",
       "       [0.51359344, 0.48640662],\n",
       "       [0.538603  , 0.46139696],\n",
       "       [0.5246489 , 0.47535115],\n",
       "       [0.52571297, 0.47428703],\n",
       "       [0.5419558 , 0.4580442 ],\n",
       "       [0.551857  , 0.448143  ],\n",
       "       [0.5637179 , 0.43628213]], dtype=float32)"
      ]
     },
     "execution_count": 400,
     "metadata": {},
     "output_type": "execute_result"
    }
   ],
   "source": [
    "probchoice[15,:,:]"
   ]
  },
  {
   "cell_type": "code",
   "execution_count": null,
   "metadata": {},
   "outputs": [],
   "source": []
  },
  {
   "cell_type": "code",
   "execution_count": null,
   "metadata": {},
   "outputs": [],
   "source": []
  },
  {
   "cell_type": "code",
   "execution_count": null,
   "metadata": {},
   "outputs": [],
   "source": []
  },
  {
   "cell_type": "code",
   "execution_count": 420,
   "metadata": {},
   "outputs": [
    {
     "data": {
      "text/plain": [
       "(16, 300, 2)"
      ]
     },
     "execution_count": 420,
     "metadata": {},
     "output_type": "execute_result"
    }
   ],
   "source": [
    "prob_test.shape"
   ]
  },
  {
   "cell_type": "code",
   "execution_count": null,
   "metadata": {},
   "outputs": [],
   "source": []
  },
  {
   "cell_type": "code",
   "execution_count": 237,
   "metadata": {},
   "outputs": [],
   "source": [
    "# loglike = np.dot(train_y.reshape(-1,2)[:,0],np.log(probchoice.reshape(-1,2)+0.0001)[:,0]) + np.dot(train_y.reshape(-1,2)[:,1],np.log(probchoice.reshape(-1,2)+0.0001)[:,1])"
   ]
  },
  {
   "cell_type": "code",
   "execution_count": 238,
   "metadata": {},
   "outputs": [
    {
     "name": "stdout",
     "output_type": "stream",
     "text": [
      "-417.8953369855881\n"
     ]
    }
   ],
   "source": [
    "# print(loglike)"
   ]
  },
  {
   "cell_type": "code",
   "execution_count": 239,
   "metadata": {},
   "outputs": [
    {
     "data": {
      "text/plain": [
       "-1.0096517675991006"
      ]
     },
     "execution_count": 239,
     "metadata": {},
     "output_type": "execute_result"
    }
   ],
   "source": [
    "# 1 - loglike/(np.log(0.5)*300)"
   ]
  },
  {
   "cell_type": "code",
   "execution_count": null,
   "metadata": {},
   "outputs": [],
   "source": []
  },
  {
   "cell_type": "code",
   "execution_count": null,
   "metadata": {},
   "outputs": [],
   "source": []
  },
  {
   "cell_type": "code",
   "execution_count": null,
   "metadata": {},
   "outputs": [],
   "source": []
  },
  {
   "cell_type": "code",
   "execution_count": null,
   "metadata": {},
   "outputs": [],
   "source": []
  },
  {
   "cell_type": "code",
   "execution_count": null,
   "metadata": {},
   "outputs": [],
   "source": []
  },
  {
   "cell_type": "code",
   "execution_count": 413,
   "metadata": {},
   "outputs": [],
   "source": [
    "metric_out_df= pd.DataFrame(np.array([acc[1],prec[1],recall[1],f1,auc[1],loss_fn,probchoice,acc_test,loss_test,prob_test,neurons,learning_rate,epochs]).reshape(-1,13),columns =[\"accuracy\",\"precision\",\"recall\",\"f1_score\",\"auc\",\"loss\",\"probchoice\",\"accuracy_test\",\"loss_test\",\"prob_test\",\"neurons\",\"learning_rate\",\"n_epochs\"])    \n"
   ]
  },
  {
   "cell_type": "code",
   "execution_count": 414,
   "metadata": {},
   "outputs": [
    {
     "data": {
      "text/html": [
       "<div>\n",
       "<style scoped>\n",
       "    .dataframe tbody tr th:only-of-type {\n",
       "        vertical-align: middle;\n",
       "    }\n",
       "\n",
       "    .dataframe tbody tr th {\n",
       "        vertical-align: top;\n",
       "    }\n",
       "\n",
       "    .dataframe thead th {\n",
       "        text-align: right;\n",
       "    }\n",
       "</style>\n",
       "<table border=\"1\" class=\"dataframe\">\n",
       "  <thead>\n",
       "    <tr style=\"text-align: right;\">\n",
       "      <th></th>\n",
       "      <th>accuracy</th>\n",
       "      <th>precision</th>\n",
       "      <th>recall</th>\n",
       "      <th>f1_score</th>\n",
       "      <th>auc</th>\n",
       "      <th>loss</th>\n",
       "      <th>probchoice</th>\n",
       "      <th>accuracy_test</th>\n",
       "      <th>loss_test</th>\n",
       "      <th>prob_test</th>\n",
       "      <th>neurons</th>\n",
       "      <th>learning_rate</th>\n",
       "      <th>n_epochs</th>\n",
       "    </tr>\n",
       "  </thead>\n",
       "  <tbody>\n",
       "    <tr>\n",
       "      <th>0</th>\n",
       "      <td>0.57285</td>\n",
       "      <td>0.689693</td>\n",
       "      <td>0.26961</td>\n",
       "      <td>0.321996</td>\n",
       "      <td>0.577448</td>\n",
       "      <td>0.68207</td>\n",
       "      <td>[[[0.5028481, 0.4971519], [0.4913881, 0.508611...</td>\n",
       "      <td>0.57279</td>\n",
       "      <td>0.682568</td>\n",
       "      <td>[[[0.49896055, 0.50103945], [0.48632938, 0.513...</td>\n",
       "      <td>100</td>\n",
       "      <td>1e-05</td>\n",
       "      <td>2000</td>\n",
       "    </tr>\n",
       "  </tbody>\n",
       "</table>\n",
       "</div>"
      ],
      "text/plain": [
       "  accuracy precision   recall  f1_score       auc     loss  \\\n",
       "0  0.57285  0.689693  0.26961  0.321996  0.577448  0.68207   \n",
       "\n",
       "                                          probchoice accuracy_test loss_test  \\\n",
       "0  [[[0.5028481, 0.4971519], [0.4913881, 0.508611...       0.57279  0.682568   \n",
       "\n",
       "                                           prob_test neurons learning_rate  \\\n",
       "0  [[[0.49896055, 0.50103945], [0.48632938, 0.513...     100         1e-05   \n",
       "\n",
       "  n_epochs  \n",
       "0     2000  "
      ]
     },
     "execution_count": 414,
     "metadata": {},
     "output_type": "execute_result"
    }
   ],
   "source": [
    "metric_out_df"
   ]
  },
  {
   "cell_type": "code",
   "execution_count": 415,
   "metadata": {},
   "outputs": [],
   "source": [
    "file_path\n",
    "metric_out_df.to_csv(file_path+\"LSTM_metrics_all_subjs.csv\")\n"
   ]
  },
  {
   "cell_type": "code",
   "execution_count": 423,
   "metadata": {},
   "outputs": [],
   "source": [
    "# probchoice_all_df = pd.DataFrame([probchoice,prob_test],columns =['probchoice','prob_test'])"
   ]
  },
  {
   "cell_type": "code",
   "execution_count": null,
   "metadata": {},
   "outputs": [],
   "source": []
  },
  {
   "cell_type": "code",
   "execution_count": null,
   "metadata": {},
   "outputs": [],
   "source": []
  },
  {
   "cell_type": "code",
   "execution_count": null,
   "metadata": {},
   "outputs": [],
   "source": []
  },
  {
   "cell_type": "code",
   "execution_count": null,
   "metadata": {},
   "outputs": [],
   "source": []
  },
  {
   "cell_type": "code",
   "execution_count": 404,
   "metadata": {},
   "outputs": [
    {
     "name": "stdout",
     "output_type": "stream",
     "text": [
      "INFO:tensorflow:Restoring parameters from ./checkpts/RNN_LST_model_subject_num_11_final.ckpt\n"
     ]
    }
   ],
   "source": [
    "with tf.Session() as sess:\n",
    "    saver.restore(sess, \"./checkpts/RNN_LST_model_subject_num_11_final.ckpt\")"
   ]
  },
  {
   "cell_type": "code",
   "execution_count": 405,
   "metadata": {},
   "outputs": [
    {
     "data": {
      "text/plain": [
       "1.0"
      ]
     },
     "execution_count": 405,
     "metadata": {},
     "output_type": "execute_result"
    }
   ],
   "source": [
    "np.sum(probchoice[0,0,:])"
   ]
  },
  {
   "cell_type": "code",
   "execution_count": 406,
   "metadata": {},
   "outputs": [],
   "source": [
    "prob_df = pd.DataFrame(probchoice.reshape(-1,2),columns = {'action_0','action_1'})"
   ]
  },
  {
   "cell_type": "code",
   "execution_count": 407,
   "metadata": {},
   "outputs": [
    {
     "data": {
      "text/html": [
       "<div>\n",
       "<style scoped>\n",
       "    .dataframe tbody tr th:only-of-type {\n",
       "        vertical-align: middle;\n",
       "    }\n",
       "\n",
       "    .dataframe tbody tr th {\n",
       "        vertical-align: top;\n",
       "    }\n",
       "\n",
       "    .dataframe thead th {\n",
       "        text-align: right;\n",
       "    }\n",
       "</style>\n",
       "<table border=\"1\" class=\"dataframe\">\n",
       "  <thead>\n",
       "    <tr style=\"text-align: right;\">\n",
       "      <th></th>\n",
       "      <th>action_0</th>\n",
       "      <th>action_1</th>\n",
       "    </tr>\n",
       "  </thead>\n",
       "  <tbody>\n",
       "    <tr>\n",
       "      <th>0</th>\n",
       "      <td>0.502848</td>\n",
       "      <td>0.497152</td>\n",
       "    </tr>\n",
       "    <tr>\n",
       "      <th>1</th>\n",
       "      <td>0.491388</td>\n",
       "      <td>0.508612</td>\n",
       "    </tr>\n",
       "    <tr>\n",
       "      <th>2</th>\n",
       "      <td>0.491984</td>\n",
       "      <td>0.508016</td>\n",
       "    </tr>\n",
       "    <tr>\n",
       "      <th>3</th>\n",
       "      <td>0.469915</td>\n",
       "      <td>0.530085</td>\n",
       "    </tr>\n",
       "    <tr>\n",
       "      <th>4</th>\n",
       "      <td>0.484155</td>\n",
       "      <td>0.515845</td>\n",
       "    </tr>\n",
       "    <tr>\n",
       "      <th>5</th>\n",
       "      <td>0.473913</td>\n",
       "      <td>0.526087</td>\n",
       "    </tr>\n",
       "    <tr>\n",
       "      <th>6</th>\n",
       "      <td>0.474276</td>\n",
       "      <td>0.525724</td>\n",
       "    </tr>\n",
       "    <tr>\n",
       "      <th>7</th>\n",
       "      <td>0.463028</td>\n",
       "      <td>0.536972</td>\n",
       "    </tr>\n",
       "    <tr>\n",
       "      <th>8</th>\n",
       "      <td>0.447558</td>\n",
       "      <td>0.552442</td>\n",
       "    </tr>\n",
       "    <tr>\n",
       "      <th>9</th>\n",
       "      <td>0.447536</td>\n",
       "      <td>0.552464</td>\n",
       "    </tr>\n",
       "  </tbody>\n",
       "</table>\n",
       "</div>"
      ],
      "text/plain": [
       "   action_0  action_1\n",
       "0  0.502848  0.497152\n",
       "1  0.491388  0.508612\n",
       "2  0.491984  0.508016\n",
       "3  0.469915  0.530085\n",
       "4  0.484155  0.515845\n",
       "5  0.473913  0.526087\n",
       "6  0.474276  0.525724\n",
       "7  0.463028  0.536972\n",
       "8  0.447558  0.552442\n",
       "9  0.447536  0.552464"
      ]
     },
     "execution_count": 407,
     "metadata": {},
     "output_type": "execute_result"
    }
   ],
   "source": [
    "prob_df.head(10)"
   ]
  },
  {
   "cell_type": "code",
   "execution_count": null,
   "metadata": {},
   "outputs": [],
   "source": [
    "prob_df.plot()"
   ]
  },
  {
   "cell_type": "code",
   "execution_count": 23,
   "metadata": {},
   "outputs": [],
   "source": []
  },
  {
   "cell_type": "code",
   "execution_count": null,
   "metadata": {},
   "outputs": [],
   "source": [
    "plt.plot(probchoice.reshape(-1,2))\n",
    "plt.ylim([0.25,0.75])\n",
    "plt.ylabel(\"Probchoice\");\n",
    "plt.xlabel(\"Trials\");"
   ]
  },
  {
   "cell_type": "code",
   "execution_count": null,
   "metadata": {},
   "outputs": [],
   "source": []
  },
  {
   "cell_type": "code",
   "execution_count": null,
   "metadata": {},
   "outputs": [],
   "source": [
    "metric_out_df"
   ]
  },
  {
   "cell_type": "code",
   "execution_count": 225,
   "metadata": {},
   "outputs": [
    {
     "data": {
      "text/plain": [
       "0.59"
      ]
     },
     "execution_count": 225,
     "metadata": {},
     "output_type": "execute_result"
    }
   ],
   "source": [
    "prec[1]"
   ]
  },
  {
   "cell_type": "code",
   "execution_count": 226,
   "metadata": {},
   "outputs": [
    {
     "data": {
      "text/plain": [
       "1.0"
      ]
     },
     "execution_count": 226,
     "metadata": {},
     "output_type": "execute_result"
    }
   ],
   "source": [
    "recall[1]"
   ]
  },
  {
   "cell_type": "code",
   "execution_count": 227,
   "metadata": {},
   "outputs": [
    {
     "data": {
      "text/plain": [
       "0.5866916"
      ]
     },
     "execution_count": 227,
     "metadata": {},
     "output_type": "execute_result"
    }
   ],
   "source": [
    "acc[1]"
   ]
  },
  {
   "cell_type": "code",
   "execution_count": 228,
   "metadata": {},
   "outputs": [
    {
     "data": {
      "text/plain": [
       "'/Users/ritwik7/Dropbox (Personal)/Postdoc_UCL/DATA/rlab_incomplete_rewardSWB_code/by_RN/placdata/subject_num_15/'"
      ]
     },
     "execution_count": 228,
     "metadata": {},
     "output_type": "execute_result"
    }
   ],
   "source": [
    "file_path"
   ]
  },
  {
   "cell_type": "code",
   "execution_count": 229,
   "metadata": {},
   "outputs": [],
   "source": [
    "# metric_out_df= pd.DataFrame(np.array([acc[1],prec[1],recall[1],f1,auc[1]]).reshape(-1,5),columns =[\"accuracy\",\"precision\",\"recall\",\"f1_score\",\"auc\"])"
   ]
  },
  {
   "cell_type": "code",
   "execution_count": 230,
   "metadata": {},
   "outputs": [],
   "source": [
    "# np.array([acc[1],prec[1],recall[1],f1,auc[1]]).reshape(-1,5)"
   ]
  },
  {
   "cell_type": "code",
   "execution_count": 231,
   "metadata": {},
   "outputs": [],
   "source": [
    "# metric_out_df.to_csv(file_path+\"LSTM_metrics.csv\")\n",
    "# metric_out_df.to_csv(file_path+\"LSTM_metrics_lr05.csv\")\n",
    "metric_out_df.to_csv(file_path+\"LSTM_metrics_10neurons.csv\")\n"
   ]
  },
  {
   "cell_type": "code",
   "execution_count": null,
   "metadata": {},
   "outputs": [],
   "source": []
  },
  {
   "cell_type": "code",
   "execution_count": null,
   "metadata": {},
   "outputs": [],
   "source": []
  },
  {
   "cell_type": "code",
   "execution_count": 34,
   "metadata": {},
   "outputs": [],
   "source": [
    "all_subj_metrics_df = pd.DataFrame()\n",
    "for subj_num in range(11,26):\n",
    "#     print(subj_num)\n",
    "    file_name = \"/Users/ritwik7/Dropbox (Personal)/Postdoc_UCL/DATA/rlab_incomplete_rewardSWB_code/by_RN/placdata/subject_num_\" + str(subj_num) + \"/LSTM_metrics.csv\"\n",
    "    all_subj_metrics_df = all_subj_metrics_df.append(pd.read_csv(file_name))"
   ]
  },
  {
   "cell_type": "code",
   "execution_count": 35,
   "metadata": {},
   "outputs": [
    {
     "data": {
      "text/html": [
       "<div>\n",
       "<style scoped>\n",
       "    .dataframe tbody tr th:only-of-type {\n",
       "        vertical-align: middle;\n",
       "    }\n",
       "\n",
       "    .dataframe tbody tr th {\n",
       "        vertical-align: top;\n",
       "    }\n",
       "\n",
       "    .dataframe thead th {\n",
       "        text-align: right;\n",
       "    }\n",
       "</style>\n",
       "<table border=\"1\" class=\"dataframe\">\n",
       "  <thead>\n",
       "    <tr style=\"text-align: right;\">\n",
       "      <th></th>\n",
       "      <th>Unnamed: 0</th>\n",
       "      <th>accuracy</th>\n",
       "      <th>precision</th>\n",
       "      <th>recall</th>\n",
       "      <th>f1_score</th>\n",
       "      <th>auc</th>\n",
       "      <th>loss</th>\n",
       "      <th>learning_rate</th>\n",
       "      <th>n_epochs</th>\n",
       "    </tr>\n",
       "  </thead>\n",
       "  <tbody>\n",
       "    <tr>\n",
       "      <th>0</th>\n",
       "      <td>0</td>\n",
       "      <td>0.616667</td>\n",
       "      <td>0.616667</td>\n",
       "      <td>1.000000</td>\n",
       "      <td>0.762887</td>\n",
       "      <td>0.500000</td>\n",
       "      <td>0.653649</td>\n",
       "      <td>0.00001</td>\n",
       "      <td>2000.0</td>\n",
       "    </tr>\n",
       "    <tr>\n",
       "      <th>0</th>\n",
       "      <td>0</td>\n",
       "      <td>0.603333</td>\n",
       "      <td>0.576471</td>\n",
       "      <td>0.371212</td>\n",
       "      <td>0.472657</td>\n",
       "      <td>0.578463</td>\n",
       "      <td>0.673517</td>\n",
       "      <td>0.00001</td>\n",
       "      <td>2000.0</td>\n",
       "    </tr>\n",
       "    <tr>\n",
       "      <th>0</th>\n",
       "      <td>0</td>\n",
       "      <td>0.573333</td>\n",
       "      <td>0.568627</td>\n",
       "      <td>0.889571</td>\n",
       "      <td>0.699521</td>\n",
       "      <td>0.543325</td>\n",
       "      <td>0.676040</td>\n",
       "      <td>0.00005</td>\n",
       "      <td>2000.0</td>\n",
       "    </tr>\n",
       "    <tr>\n",
       "      <th>0</th>\n",
       "      <td>0</td>\n",
       "      <td>0.716667</td>\n",
       "      <td>0.716667</td>\n",
       "      <td>1.000000</td>\n",
       "      <td>0.834951</td>\n",
       "      <td>0.500000</td>\n",
       "      <td>0.589942</td>\n",
       "      <td>0.00005</td>\n",
       "      <td>2000.0</td>\n",
       "    </tr>\n",
       "    <tr>\n",
       "      <th>0</th>\n",
       "      <td>0</td>\n",
       "      <td>0.590000</td>\n",
       "      <td>0.590000</td>\n",
       "      <td>1.000000</td>\n",
       "      <td>0.742138</td>\n",
       "      <td>0.500000</td>\n",
       "      <td>0.661651</td>\n",
       "      <td>0.00001</td>\n",
       "      <td>2000.0</td>\n",
       "    </tr>\n",
       "    <tr>\n",
       "      <th>0</th>\n",
       "      <td>0</td>\n",
       "      <td>0.563333</td>\n",
       "      <td>0.562712</td>\n",
       "      <td>0.988095</td>\n",
       "      <td>0.717855</td>\n",
       "      <td>0.505411</td>\n",
       "      <td>0.660161</td>\n",
       "      <td>0.00001</td>\n",
       "      <td>2000.0</td>\n",
       "    </tr>\n",
       "    <tr>\n",
       "      <th>0</th>\n",
       "      <td>0</td>\n",
       "      <td>0.593333</td>\n",
       "      <td>0.666667</td>\n",
       "      <td>0.151515</td>\n",
       "      <td>0.219753</td>\n",
       "      <td>0.545996</td>\n",
       "      <td>0.663565</td>\n",
       "      <td>0.00001</td>\n",
       "      <td>2000.0</td>\n",
       "    </tr>\n",
       "    <tr>\n",
       "      <th>0</th>\n",
       "      <td>0</td>\n",
       "      <td>0.613333</td>\n",
       "      <td>0.605948</td>\n",
       "      <td>0.942197</td>\n",
       "      <td>0.746546</td>\n",
       "      <td>0.553775</td>\n",
       "      <td>0.648313</td>\n",
       "      <td>0.00001</td>\n",
       "      <td>2000.0</td>\n",
       "    </tr>\n",
       "    <tr>\n",
       "      <th>0</th>\n",
       "      <td>0</td>\n",
       "      <td>0.653333</td>\n",
       "      <td>0.608295</td>\n",
       "      <td>0.874172</td>\n",
       "      <td>0.770507</td>\n",
       "      <td>0.651851</td>\n",
       "      <td>0.684488</td>\n",
       "      <td>0.00001</td>\n",
       "      <td>2000.0</td>\n",
       "    </tr>\n",
       "    <tr>\n",
       "      <th>0</th>\n",
       "      <td>0</td>\n",
       "      <td>0.573333</td>\n",
       "      <td>0.700000</td>\n",
       "      <td>0.102941</td>\n",
       "      <td>0.147009</td>\n",
       "      <td>0.533178</td>\n",
       "      <td>0.674514</td>\n",
       "      <td>0.00001</td>\n",
       "      <td>2000.0</td>\n",
       "    </tr>\n",
       "    <tr>\n",
       "      <th>0</th>\n",
       "      <td>0</td>\n",
       "      <td>0.773333</td>\n",
       "      <td>0.000000</td>\n",
       "      <td>0.000000</td>\n",
       "      <td>NaN</td>\n",
       "      <td>0.500000</td>\n",
       "      <td>0.539802</td>\n",
       "      <td>0.00001</td>\n",
       "      <td>2000.0</td>\n",
       "    </tr>\n",
       "    <tr>\n",
       "      <th>0</th>\n",
       "      <td>0</td>\n",
       "      <td>0.573333</td>\n",
       "      <td>0.250000</td>\n",
       "      <td>0.007937</td>\n",
       "      <td>0.035282</td>\n",
       "      <td>0.495348</td>\n",
       "      <td>0.660351</td>\n",
       "      <td>0.00001</td>\n",
       "      <td>2000.0</td>\n",
       "    </tr>\n",
       "    <tr>\n",
       "      <th>0</th>\n",
       "      <td>0</td>\n",
       "      <td>0.616667</td>\n",
       "      <td>0.582996</td>\n",
       "      <td>0.923077</td>\n",
       "      <td>0.755914</td>\n",
       "      <td>0.603900</td>\n",
       "      <td>0.672934</td>\n",
       "      <td>0.00001</td>\n",
       "      <td>2000.0</td>\n",
       "    </tr>\n",
       "    <tr>\n",
       "      <th>0</th>\n",
       "      <td>0</td>\n",
       "      <td>0.570000</td>\n",
       "      <td>0.570000</td>\n",
       "      <td>1.000000</td>\n",
       "      <td>0.726115</td>\n",
       "      <td>0.500000</td>\n",
       "      <td>0.681617</td>\n",
       "      <td>0.00001</td>\n",
       "      <td>2000.0</td>\n",
       "    </tr>\n",
       "    <tr>\n",
       "      <th>0</th>\n",
       "      <td>0</td>\n",
       "      <td>0.830000</td>\n",
       "      <td>0.000000</td>\n",
       "      <td>0.000000</td>\n",
       "      <td>NaN</td>\n",
       "      <td>0.500000</td>\n",
       "      <td>0.438561</td>\n",
       "      <td>0.00001</td>\n",
       "      <td>2000.0</td>\n",
       "    </tr>\n",
       "  </tbody>\n",
       "</table>\n",
       "</div>"
      ],
      "text/plain": [
       "   Unnamed: 0  accuracy  precision    recall  f1_score       auc      loss  \\\n",
       "0           0  0.616667   0.616667  1.000000  0.762887  0.500000  0.653649   \n",
       "0           0  0.603333   0.576471  0.371212  0.472657  0.578463  0.673517   \n",
       "0           0  0.573333   0.568627  0.889571  0.699521  0.543325  0.676040   \n",
       "0           0  0.716667   0.716667  1.000000  0.834951  0.500000  0.589942   \n",
       "0           0  0.590000   0.590000  1.000000  0.742138  0.500000  0.661651   \n",
       "0           0  0.563333   0.562712  0.988095  0.717855  0.505411  0.660161   \n",
       "0           0  0.593333   0.666667  0.151515  0.219753  0.545996  0.663565   \n",
       "0           0  0.613333   0.605948  0.942197  0.746546  0.553775  0.648313   \n",
       "0           0  0.653333   0.608295  0.874172  0.770507  0.651851  0.684488   \n",
       "0           0  0.573333   0.700000  0.102941  0.147009  0.533178  0.674514   \n",
       "0           0  0.773333   0.000000  0.000000       NaN  0.500000  0.539802   \n",
       "0           0  0.573333   0.250000  0.007937  0.035282  0.495348  0.660351   \n",
       "0           0  0.616667   0.582996  0.923077  0.755914  0.603900  0.672934   \n",
       "0           0  0.570000   0.570000  1.000000  0.726115  0.500000  0.681617   \n",
       "0           0  0.830000   0.000000  0.000000       NaN  0.500000  0.438561   \n",
       "\n",
       "   learning_rate  n_epochs  \n",
       "0        0.00001    2000.0  \n",
       "0        0.00001    2000.0  \n",
       "0        0.00005    2000.0  \n",
       "0        0.00005    2000.0  \n",
       "0        0.00001    2000.0  \n",
       "0        0.00001    2000.0  \n",
       "0        0.00001    2000.0  \n",
       "0        0.00001    2000.0  \n",
       "0        0.00001    2000.0  \n",
       "0        0.00001    2000.0  \n",
       "0        0.00001    2000.0  \n",
       "0        0.00001    2000.0  \n",
       "0        0.00001    2000.0  \n",
       "0        0.00001    2000.0  \n",
       "0        0.00001    2000.0  "
      ]
     },
     "execution_count": 35,
     "metadata": {},
     "output_type": "execute_result"
    }
   ],
   "source": [
    "all_subj_metrics_df"
   ]
  },
  {
   "cell_type": "code",
   "execution_count": 38,
   "metadata": {},
   "outputs": [],
   "source": [
    "all_subj_metrics_df[\"pseudoR2\"]=1+all_subj_metrics_df.loss/(np.log(0.5)*300)"
   ]
  },
  {
   "cell_type": "code",
   "execution_count": 39,
   "metadata": {},
   "outputs": [],
   "source": [
    "PT_file_path = \"/Users/ritwik7/Dropbox (Personal)/Postdoc_UCL/DATA/rlab_incomplete_rewardSWB_code/by_RN/placdata/\"\n",
    "PT_file_name = PT_file_path  + \"PT_loss.csv\""
   ]
  },
  {
   "cell_type": "code",
   "execution_count": 40,
   "metadata": {},
   "outputs": [],
   "source": [
    "PT_metrics = pd.read_csv(PT_file_name)"
   ]
  },
  {
   "cell_type": "code",
   "execution_count": 41,
   "metadata": {},
   "outputs": [],
   "source": [
    "# PT_metrics.head(100)"
   ]
  },
  {
   "cell_type": "code",
   "execution_count": 42,
   "metadata": {},
   "outputs": [
    {
     "data": {
      "text/html": [
       "<div>\n",
       "<style scoped>\n",
       "    .dataframe tbody tr th:only-of-type {\n",
       "        vertical-align: middle;\n",
       "    }\n",
       "\n",
       "    .dataframe tbody tr th {\n",
       "        vertical-align: top;\n",
       "    }\n",
       "\n",
       "    .dataframe thead th {\n",
       "        text-align: right;\n",
       "    }\n",
       "</style>\n",
       "<table border=\"1\" class=\"dataframe\">\n",
       "  <thead>\n",
       "    <tr style=\"text-align: right;\">\n",
       "      <th></th>\n",
       "      <th>Subject_number</th>\n",
       "      <th>PT_loss</th>\n",
       "      <th>PT_pseudoR2</th>\n",
       "    </tr>\n",
       "  </thead>\n",
       "  <tbody>\n",
       "    <tr>\n",
       "      <th>0</th>\n",
       "      <td>11</td>\n",
       "      <td>81.160098</td>\n",
       "      <td>0.609702</td>\n",
       "    </tr>\n",
       "    <tr>\n",
       "      <th>1</th>\n",
       "      <td>12</td>\n",
       "      <td>159.474231</td>\n",
       "      <td>0.233091</td>\n",
       "    </tr>\n",
       "    <tr>\n",
       "      <th>2</th>\n",
       "      <td>13</td>\n",
       "      <td>171.936892</td>\n",
       "      <td>0.173158</td>\n",
       "    </tr>\n",
       "    <tr>\n",
       "      <th>3</th>\n",
       "      <td>14</td>\n",
       "      <td>113.557085</td>\n",
       "      <td>0.453906</td>\n",
       "    </tr>\n",
       "    <tr>\n",
       "      <th>4</th>\n",
       "      <td>15</td>\n",
       "      <td>8.021925</td>\n",
       "      <td>0.961423</td>\n",
       "    </tr>\n",
       "    <tr>\n",
       "      <th>5</th>\n",
       "      <td>16</td>\n",
       "      <td>64.471021</td>\n",
       "      <td>0.689960</td>\n",
       "    </tr>\n",
       "    <tr>\n",
       "      <th>6</th>\n",
       "      <td>17</td>\n",
       "      <td>111.244149</td>\n",
       "      <td>0.465029</td>\n",
       "    </tr>\n",
       "    <tr>\n",
       "      <th>7</th>\n",
       "      <td>18</td>\n",
       "      <td>133.319149</td>\n",
       "      <td>0.358870</td>\n",
       "    </tr>\n",
       "    <tr>\n",
       "      <th>8</th>\n",
       "      <td>19</td>\n",
       "      <td>16.799920</td>\n",
       "      <td>0.919209</td>\n",
       "    </tr>\n",
       "    <tr>\n",
       "      <th>9</th>\n",
       "      <td>20</td>\n",
       "      <td>43.594714</td>\n",
       "      <td>0.790354</td>\n",
       "    </tr>\n",
       "    <tr>\n",
       "      <th>10</th>\n",
       "      <td>21</td>\n",
       "      <td>117.752046</td>\n",
       "      <td>0.433732</td>\n",
       "    </tr>\n",
       "    <tr>\n",
       "      <th>11</th>\n",
       "      <td>22</td>\n",
       "      <td>60.262084</td>\n",
       "      <td>0.710201</td>\n",
       "    </tr>\n",
       "    <tr>\n",
       "      <th>12</th>\n",
       "      <td>23</td>\n",
       "      <td>107.505168</td>\n",
       "      <td>0.483009</td>\n",
       "    </tr>\n",
       "    <tr>\n",
       "      <th>13</th>\n",
       "      <td>24</td>\n",
       "      <td>149.257056</td>\n",
       "      <td>0.282225</td>\n",
       "    </tr>\n",
       "    <tr>\n",
       "      <th>14</th>\n",
       "      <td>25</td>\n",
       "      <td>96.780830</td>\n",
       "      <td>0.534583</td>\n",
       "    </tr>\n",
       "    <tr>\n",
       "      <th>15</th>\n",
       "      <td>26</td>\n",
       "      <td>102.310428</td>\n",
       "      <td>0.507991</td>\n",
       "    </tr>\n",
       "    <tr>\n",
       "      <th>17</th>\n",
       "      <td>28</td>\n",
       "      <td>127.181507</td>\n",
       "      <td>0.388386</td>\n",
       "    </tr>\n",
       "    <tr>\n",
       "      <th>18</th>\n",
       "      <td>29</td>\n",
       "      <td>37.328830</td>\n",
       "      <td>0.820486</td>\n",
       "    </tr>\n",
       "    <tr>\n",
       "      <th>19</th>\n",
       "      <td>30</td>\n",
       "      <td>163.100213</td>\n",
       "      <td>0.215654</td>\n",
       "    </tr>\n",
       "    <tr>\n",
       "      <th>20</th>\n",
       "      <td>31</td>\n",
       "      <td>117.658301</td>\n",
       "      <td>0.434183</td>\n",
       "    </tr>\n",
       "    <tr>\n",
       "      <th>21</th>\n",
       "      <td>32</td>\n",
       "      <td>91.442263</td>\n",
       "      <td>0.560256</td>\n",
       "    </tr>\n",
       "    <tr>\n",
       "      <th>22</th>\n",
       "      <td>33</td>\n",
       "      <td>158.940983</td>\n",
       "      <td>0.235655</td>\n",
       "    </tr>\n",
       "    <tr>\n",
       "      <th>23</th>\n",
       "      <td>34</td>\n",
       "      <td>146.488302</td>\n",
       "      <td>0.295540</td>\n",
       "    </tr>\n",
       "    <tr>\n",
       "      <th>24</th>\n",
       "      <td>35</td>\n",
       "      <td>63.927930</td>\n",
       "      <td>0.692572</td>\n",
       "    </tr>\n",
       "    <tr>\n",
       "      <th>25</th>\n",
       "      <td>36</td>\n",
       "      <td>88.129209</td>\n",
       "      <td>0.576188</td>\n",
       "    </tr>\n",
       "    <tr>\n",
       "      <th>26</th>\n",
       "      <td>37</td>\n",
       "      <td>62.169885</td>\n",
       "      <td>0.701026</td>\n",
       "    </tr>\n",
       "    <tr>\n",
       "      <th>27</th>\n",
       "      <td>38</td>\n",
       "      <td>65.596010</td>\n",
       "      <td>0.684550</td>\n",
       "    </tr>\n",
       "    <tr>\n",
       "      <th>28</th>\n",
       "      <td>39</td>\n",
       "      <td>137.085788</td>\n",
       "      <td>0.340757</td>\n",
       "    </tr>\n",
       "    <tr>\n",
       "      <th>29</th>\n",
       "      <td>40</td>\n",
       "      <td>93.823903</td>\n",
       "      <td>0.548802</td>\n",
       "    </tr>\n",
       "    <tr>\n",
       "      <th>30</th>\n",
       "      <td>41</td>\n",
       "      <td>114.537550</td>\n",
       "      <td>0.449191</td>\n",
       "    </tr>\n",
       "  </tbody>\n",
       "</table>\n",
       "</div>"
      ],
      "text/plain": [
       "    Subject_number     PT_loss  PT_pseudoR2\n",
       "0               11   81.160098     0.609702\n",
       "1               12  159.474231     0.233091\n",
       "2               13  171.936892     0.173158\n",
       "3               14  113.557085     0.453906\n",
       "4               15    8.021925     0.961423\n",
       "5               16   64.471021     0.689960\n",
       "6               17  111.244149     0.465029\n",
       "7               18  133.319149     0.358870\n",
       "8               19   16.799920     0.919209\n",
       "9               20   43.594714     0.790354\n",
       "10              21  117.752046     0.433732\n",
       "11              22   60.262084     0.710201\n",
       "12              23  107.505168     0.483009\n",
       "13              24  149.257056     0.282225\n",
       "14              25   96.780830     0.534583\n",
       "15              26  102.310428     0.507991\n",
       "17              28  127.181507     0.388386\n",
       "18              29   37.328830     0.820486\n",
       "19              30  163.100213     0.215654\n",
       "20              31  117.658301     0.434183\n",
       "21              32   91.442263     0.560256\n",
       "22              33  158.940983     0.235655\n",
       "23              34  146.488302     0.295540\n",
       "24              35   63.927930     0.692572\n",
       "25              36   88.129209     0.576188\n",
       "26              37   62.169885     0.701026\n",
       "27              38   65.596010     0.684550\n",
       "28              39  137.085788     0.340757\n",
       "29              40   93.823903     0.548802\n",
       "30              41  114.537550     0.449191"
      ]
     },
     "execution_count": 42,
     "metadata": {},
     "output_type": "execute_result"
    }
   ],
   "source": [
    "PT_metrics = PT_metrics[PT_metrics.PT_loss !=0]\n",
    "PT_metrics.head(100)"
   ]
  },
  {
   "cell_type": "code",
   "execution_count": 43,
   "metadata": {},
   "outputs": [],
   "source": [
    "# [y for y in a if y not in b]\n",
    "# [PT_metrics.Subject_number(a) for a in range(11,22)]"
   ]
  },
  {
   "cell_type": "code",
   "execution_count": 44,
   "metadata": {},
   "outputs": [],
   "source": [
    "# PT_metrics.loc[0:12]"
   ]
  },
  {
   "cell_type": "code",
   "execution_count": 45,
   "metadata": {},
   "outputs": [
    {
     "data": {
      "text/html": [
       "<div>\n",
       "<style scoped>\n",
       "    .dataframe tbody tr th:only-of-type {\n",
       "        vertical-align: middle;\n",
       "    }\n",
       "\n",
       "    .dataframe tbody tr th {\n",
       "        vertical-align: top;\n",
       "    }\n",
       "\n",
       "    .dataframe thead th {\n",
       "        text-align: right;\n",
       "    }\n",
       "</style>\n",
       "<table border=\"1\" class=\"dataframe\">\n",
       "  <thead>\n",
       "    <tr style=\"text-align: right;\">\n",
       "      <th></th>\n",
       "      <th>Subject_number</th>\n",
       "      <th>PT_loss</th>\n",
       "    </tr>\n",
       "  </thead>\n",
       "  <tbody>\n",
       "    <tr>\n",
       "      <th>0</th>\n",
       "      <td>11</td>\n",
       "      <td>81.160098</td>\n",
       "    </tr>\n",
       "    <tr>\n",
       "      <th>1</th>\n",
       "      <td>12</td>\n",
       "      <td>159.474231</td>\n",
       "    </tr>\n",
       "    <tr>\n",
       "      <th>2</th>\n",
       "      <td>13</td>\n",
       "      <td>171.936892</td>\n",
       "    </tr>\n",
       "    <tr>\n",
       "      <th>3</th>\n",
       "      <td>14</td>\n",
       "      <td>113.557085</td>\n",
       "    </tr>\n",
       "    <tr>\n",
       "      <th>4</th>\n",
       "      <td>15</td>\n",
       "      <td>8.021925</td>\n",
       "    </tr>\n",
       "    <tr>\n",
       "      <th>5</th>\n",
       "      <td>16</td>\n",
       "      <td>64.471021</td>\n",
       "    </tr>\n",
       "    <tr>\n",
       "      <th>6</th>\n",
       "      <td>17</td>\n",
       "      <td>111.244149</td>\n",
       "    </tr>\n",
       "    <tr>\n",
       "      <th>7</th>\n",
       "      <td>18</td>\n",
       "      <td>133.319149</td>\n",
       "    </tr>\n",
       "    <tr>\n",
       "      <th>8</th>\n",
       "      <td>19</td>\n",
       "      <td>16.799920</td>\n",
       "    </tr>\n",
       "    <tr>\n",
       "      <th>9</th>\n",
       "      <td>20</td>\n",
       "      <td>43.594714</td>\n",
       "    </tr>\n",
       "    <tr>\n",
       "      <th>10</th>\n",
       "      <td>21</td>\n",
       "      <td>117.752046</td>\n",
       "    </tr>\n",
       "    <tr>\n",
       "      <th>11</th>\n",
       "      <td>22</td>\n",
       "      <td>60.262084</td>\n",
       "    </tr>\n",
       "    <tr>\n",
       "      <th>12</th>\n",
       "      <td>23</td>\n",
       "      <td>107.505168</td>\n",
       "    </tr>\n",
       "    <tr>\n",
       "      <th>13</th>\n",
       "      <td>24</td>\n",
       "      <td>149.257056</td>\n",
       "    </tr>\n",
       "    <tr>\n",
       "      <th>14</th>\n",
       "      <td>25</td>\n",
       "      <td>96.780830</td>\n",
       "    </tr>\n",
       "  </tbody>\n",
       "</table>\n",
       "</div>"
      ],
      "text/plain": [
       "    Subject_number     PT_loss\n",
       "0               11   81.160098\n",
       "1               12  159.474231\n",
       "2               13  171.936892\n",
       "3               14  113.557085\n",
       "4               15    8.021925\n",
       "5               16   64.471021\n",
       "6               17  111.244149\n",
       "7               18  133.319149\n",
       "8               19   16.799920\n",
       "9               20   43.594714\n",
       "10              21  117.752046\n",
       "11              22   60.262084\n",
       "12              23  107.505168\n",
       "13              24  149.257056\n",
       "14              25   96.780830"
      ]
     },
     "execution_count": 45,
     "metadata": {},
     "output_type": "execute_result"
    }
   ],
   "source": [
    "PT_metrics.loc[0:14,['Subject_number','PT_loss']]"
   ]
  },
  {
   "cell_type": "code",
   "execution_count": 16,
   "metadata": {},
   "outputs": [],
   "source": [
    "# all_subj_metrics_df.loc[0:12,['Subject_number']]= PT_metrics.loc[0:12,['Subject_number']]"
   ]
  },
  {
   "cell_type": "code",
   "execution_count": null,
   "metadata": {},
   "outputs": [],
   "source": []
  },
  {
   "cell_type": "code",
   "execution_count": 17,
   "metadata": {},
   "outputs": [
    {
     "data": {
      "image/png": "[encoded data removed]",
      "text/plain": [
       "<Figure size 432x288 with 1 Axes>"
      ]
     },
     "metadata": {
      "needs_background": "light"
     },
     "output_type": "display_data"
    }
   ],
   "source": [
    "\n",
    "# sns.set(style=\"ticks\")\n",
    "ax = sns.barplot(y=\"accuracy\", data=all_subj_metrics_df, capsize=.2)\n",
    "# sns.catplot(y=\"accuracy\",data=all_subj_metrics_df)sns.catplot(y=\"accuracy\",data=all_subj_metrics_df,kind=\"box\")\n",
    "\n",
    "plt.ylim([0 ,1]);"
   ]
  },
  {
   "cell_type": "code",
   "execution_count": 18,
   "metadata": {},
   "outputs": [
    {
     "data": {
      "image/png": "[encoded data removed]",
      "text/plain": [
       "<Figure size 360x360 with 1 Axes>"
      ]
     },
     "metadata": {
      "needs_background": "light"
     },
     "output_type": "display_data"
    }
   ],
   "source": [
    "# sns.catplot(y=\"accuracy\",data=all_subj_metrics_df)\n",
    "sns.catplot(y=\"accuracy\",data=all_subj_metrics_df,kind=\"box\")\n",
    "# sns.catplot(y=\"accuracy\",data=all_subj_metrics_df,kind=\"violin\")\n",
    "\n",
    "plt.ylim([0.5,0.8])\n",
    "plt.xlabel('RNN (100 neurons)');"
   ]
  },
  {
   "cell_type": "code",
   "execution_count": 19,
   "metadata": {},
   "outputs": [
    {
     "data": {
      "image/png": "[encoded data removed]",
      "text/plain": [
       "<Figure size 360x360 with 1 Axes>"
      ]
     },
     "metadata": {
      "needs_background": "light"
     },
     "output_type": "display_data"
    }
   ],
   "source": [
    "sns.catplot(y=\"loss\",data=all_subj_metrics_df,kind=\"box\",color=\"grey\")\n",
    "# plt.title(\"n=\"+str(all_subj_metrics_df.shape[0]))\n",
    "plt.ylim([0.5,0.75])\n",
    "plt.xlabel('RNN (100 neurons)');"
   ]
  },
  {
   "cell_type": "code",
   "execution_count": 28,
   "metadata": {},
   "outputs": [
    {
     "data": {
      "image/png": "[encoded data removed]",
      "text/plain": [
       "<Figure size 360x360 with 1 Axes>"
      ]
     },
     "metadata": {
      "needs_background": "light"
     },
     "output_type": "display_data"
    }
   ],
   "source": [
    "sns.catplot(y=\"pseudoR2\",data=all_subj_metrics_df,kind=\"box\",color=\"grey\")\n",
    "# plt.title(\"n=\"+str(all_subj_metrics_df.shape[0]))\n",
    "# plt.ylim([0.5,0.75])\n",
    "plt.ylim([0.9,1])\n",
    "plt.xlabel('RNN (100 neurons)');"
   ]
  },
  {
   "cell_type": "markdown",
   "metadata": {},
   "source": [
    "# PT"
   ]
  },
  {
   "cell_type": "code",
   "execution_count": 20,
   "metadata": {},
   "outputs": [
    {
     "data": {
      "image/png": "[encoded data removed]",
      "text/plain": [
       "<Figure size 360x360 with 1 Axes>"
      ]
     },
     "metadata": {
      "needs_background": "light"
     },
     "output_type": "display_data"
    }
   ],
   "source": [
    "sns.catplot(y=\"PT_loss\",data = PT_metrics.loc[0:14,:],kind=\"box\",color=\"grey\")\n",
    "# plt.title(\"n=\"+str(all_subj_metrics_df.shape[0]))\n",
    "# plt.ylim([0.5,0.75])\n",
    "plt.xlabel('PT');"
   ]
  },
  {
   "cell_type": "code",
   "execution_count": 34,
   "metadata": {},
   "outputs": [
    {
     "data": {
      "image/png": "[encoded data removed]",
      "text/plain": [
       "<Figure size 360x360 with 1 Axes>"
      ]
     },
     "metadata": {
      "needs_background": "light"
     },
     "output_type": "display_data"
    }
   ],
   "source": [
    "sns.catplot(y=\"PT_pseudoR2\",data = PT_metrics.loc[0:14,:],kind=\"box\",color=\"grey\")\n",
    "# plt.title(\"n=\"+str(all_subj_metrics_df.shape[0]))\n",
    "# plt.ylim([0.5,0.75])\n",
    "plt.xlabel('PT');"
   ]
  },
  {
   "cell_type": "code",
   "execution_count": null,
   "metadata": {},
   "outputs": [],
   "source": []
  },
  {
   "cell_type": "code",
   "execution_count": null,
   "metadata": {},
   "outputs": [],
   "source": []
  },
  {
   "cell_type": "code",
   "execution_count": null,
   "metadata": {},
   "outputs": [],
   "source": []
  },
  {
   "cell_type": "code",
   "execution_count": null,
   "metadata": {},
   "outputs": [],
   "source": []
  },
  {
   "cell_type": "markdown",
   "metadata": {},
   "source": [
    "# Comparisons and WilcoxonSigned Rank test"
   ]
  },
  {
   "cell_type": "code",
   "execution_count": 21,
   "metadata": {},
   "outputs": [
    {
     "data": {
      "text/plain": [
       "WilcoxonResult(statistic=0.0, pvalue=0.0006549583433856954)"
      ]
     },
     "execution_count": 21,
     "metadata": {},
     "output_type": "execute_result"
    }
   ],
   "source": [
    "sc_stats.wilcoxon(all_subj_metrics_df.loss,PT_metrics.loc[0:14].PT_loss)"
   ]
  },
  {
   "cell_type": "code",
   "execution_count": 40,
   "metadata": {},
   "outputs": [
    {
     "data": {
      "image/png": "[encoded data removed]",
      "text/plain": [
       "<Figure size 720x720 with 1 Axes>"
      ]
     },
     "metadata": {
      "needs_background": "light"
     },
     "output_type": "display_data"
    }
   ],
   "source": [
    "fig,ax= plt.subplots(figsize=(10,10))\n",
    "ax.scatter(all_subj_metrics_df.pseudoR2,PT_metrics.loc[0:14].PT_pseudoR2)\n",
    "lims = [\n",
    "    np.min([ax.get_xlim(), ax.get_ylim()]),  # min of both axes\n",
    "    np.max([ax.get_xlim(), ax.get_ylim()]),  # max of both axes\n",
    "]\n",
    "ax.plot(lims,lims,color='black',alpha=0.75, zorder=0)\n",
    "ax.set_aspect('equal')\n",
    "ax.set_xlabel('Pseudo R2 RNN (100 Neurons)',Fontsize=14);\n",
    "ax.set_ylabel('Pseudo R2 Prospect Theory',Fontsize=14);\n",
    "\n",
    "# ax.set_xlim([100,300])\n",
    "# ax.set_ylim([100,300]);"
   ]
  },
  {
   "cell_type": "code",
   "execution_count": 35,
   "metadata": {},
   "outputs": [
    {
     "data": {
      "text/plain": [
       "WilcoxonResult(statistic=0.0, pvalue=0.0006549583433856954)"
      ]
     },
     "execution_count": 35,
     "metadata": {},
     "output_type": "execute_result"
    }
   ],
   "source": [
    "sc_stats.wilcoxon(all_subj_metrics_df.pseudoR2,PT_metrics.loc[0:14].PT_pseudoR2)"
   ]
  },
  {
   "cell_type": "code",
   "execution_count": null,
   "metadata": {},
   "outputs": [],
   "source": []
  },
  {
   "cell_type": "code",
   "execution_count": null,
   "metadata": {},
   "outputs": [],
   "source": []
  }
 ],
 "metadata": {
  "kernelspec": {
   "display_name": "Python 3",
   "language": "python",
   "name": "python3"
  },
  "language_info": {
   "codemirror_mode": {
    "name": "ipython",
    "version": 3
   },
   "file_extension": ".py",
   "mimetype": "text/x-python",
   "name": "python",
   "nbconvert_exporter": "python",
   "pygments_lexer": "ipython3",
   "version": "3.6.8"
  }
 },
 "nbformat": 4,
 "nbformat_minor": 2
}
